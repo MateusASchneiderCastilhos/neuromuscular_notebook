{
 "cells": [
  {
   "cell_type": "markdown",
   "metadata": {},
   "source": [
    "![NERLab](http://www.fee.unicamp.br/sites/default/files/docentes/leoelias/imagens/logo_v1%28WEB%29.png)\n",
    "--"
   ]
  },
  {
   "cell_type": "markdown",
   "metadata": {},
   "source": [
    "# NeMU: A neuromuscular model notebook\n",
    "\n",
    "The present Python notebook (dubbed NeMU) encompasses a brief description and a mathematical model of the mechanisms underlying the generation of muscle force and surface electromyogram (sEMG) during voluntary isometric contractions. The main structure of the model is the motor unit (MU) pool. The user can choose the muscle cross section morphology along with the distribution of MU territories within the muscle cross-sectional area. Also, the notebook includes time- and frequency-domain methods for the analysis of model's outcomes.\n",
    "\n",
    "- Version 0.1: January 06, 2019;\n",
    "- Version 0.2: July 22, 2019;\n",
    "- Version 0.3: October 03, 2019;\n",
    "- Version 0.4 | Last update: November 07, 2020.\n",
    "\n",
    "Authors:  \n",
    "[Ricardo Gonçalves Molinari](mailto:molinari@gmail.com) and [Leonardo Abdala Elias](mailto:leoelias@fee.unicamp.br)\n",
    "\n",
    "# Import libraries and create model objects"
   ]
  },
  {
   "cell_type": "code",
   "execution_count": 11,
   "metadata": {},
   "outputs": [],
   "source": [
    "if 'google.colab' in str(get_ipython()):\n",
    "    !git clone -l -s https://github.com/molinaris/neuromuscular_notebook cloned-repo\n",
    "    %cd cloned-repo\n",
    "    !ls\n",
    "\n",
    "from nerlab import  fug, emg, force, util\n",
    "import ipywidgets as wi\n",
    "\n",
    "util.config_plots()\n",
    "mnpool = fug.Phemo()\n",
    "muscle_emg = emg.Emg_mod(mnpool)\n",
    "muscle_force = force.Muscle_force(mnpool)\n",
    "sim = util.sim_results(mnpool, muscle_emg, muscle_force)"
   ]
  },
  {
   "cell_type": "markdown",
   "metadata": {},
   "source": [
    "# The Motor Pool Model\n",
    "## Recruitment pattern of motor units\n",
    "\n",
    "This section of the model generates the static input-output relationship of the motor pool. Here, we adopted the phenomenological model by [Fuglevand et al. (1993)](https://doi.org/10.1152/jn.1993.70.6.2470 \"Models of recruitment and rate coding organization in motor-unit pools\"), where the common drive to the motor neuron pool is mapped into the motor unit (MU) firing rate. A key aspect of this mapping is the recruitment pattern of MUs.\n",
    "\n",
    "As well known, each MU encompasses a single motor neuron (MN) and its innervated muscle fibers. In the present model, three types of MUs were represented:\n",
    "\n",
    "- Type I (or S) MUs: low-threshold MUs with slowly contracting muscle units;\n",
    "- Type IIa (or FR) MUs: these MUs have a higher recruitment threshold (as compared to type I MUs) and its muscle units are fast contracting but fatigue resistant;\n",
    "- Type IIb (or FF) MUs: these MUs have the highest recruitment threshold with fast contracting and fatigable muscle units.\n",
    "\n",
    "### Recruitment Range\n",
    "___Recruitment range___  is used to define the recruitment threshold excitation (RTE) of each MU.\n",
    "\n",
    "$$RTE_i  =exp \\left ( \\frac{ln(RR)i}{n} \\right )$$\n",
    "\n",
    "where:\n",
    "- $RTE_i$ is the recruitment threshold excitation of the MU $i$;\n",
    "- $RR$ is the recruitment range;\n",
    "- $i$ is the MU index;\n",
    "- $n$ is the total number of MUs.  \n",
    "\n",
    "\n",
    "### Relationship between MU firing rate and the excitatory drive\n",
    "\n",
    "The following equation is used to define the ***firing rate*** of each MU as a function of the ***excitatory (common) drive***.\n",
    "\n",
    "$$\\begin{align}\n",
    "     if \\quad e(t) \\ge RTE_i , \\quad  fr_i(t) &= g_{i}(e(t)-RTE_i) + MFR \\\\\n",
    "     else \\quad fr_i(t) & = 0\\\\\n",
    "    \\end{align}$$\n",
    "\n",
    "where:\n",
    "- $e(t)$ is the excitatory (common) drive as a function of time;\n",
    "- $fr_i(t)$ is the mean firing rate of the $i$-th MU at time $t$; \n",
    "- $MFR$ is the minimum firing rate;\n",
    "- $PFR_i$ is the peak firing rate of the $i$-th MU, defined by: \n",
    "\n",
    "    $$ PFR_i   = PFR_1 - PFRD \\frac{RTE_i}{RTE_n} $$\n",
    "    \n",
    "- $PFRD$ is the difference between the peak firing rate of the first and the last recruited MU of the pool;\n",
    "\n",
    "- $g_{i}$ is the gain of the relationship between the excitatory drive and the firing rate for the $i$-th MU, defined by:\n",
    "\n",
    "$$ \\begin{align}\n",
    "    g_{i} &= g_{var}(i) \\frac{PFR_i - MFR}{e_{max} - RTE_i} \\\\\n",
    "    e_{max} &= \\frac{RTE_n}{\\tilde{e}_{LR}} \\\\\n",
    "\\end{align}$$\n",
    "\n",
    "where:\n",
    "- $e_{max}$ is the maximum excitatory drive to the MN pool;\n",
    "- $\\tilde{e}_{LR}$ is the normalized (by $e_{max}$) excitatory drive that recruits the last MU;\n",
    "- $g_{var}(i)$ returns $n$ ($n$ = number of MUs) evenly spaced numbers between 1 and $g_{var}(n)$.\n",
    "\n",
    "If the checkbox __Same gain for all MNs?__ is checked, $g_{var}(i) = g_{var}(n)$, resulting in the same $g_{i}$ for all MNs.\n",
    "\n",
    "For more information about the physiology of MUs, please refer to the monograph by [Kernell (2006)](https://doi.org/10.1093/acprof:oso/9780198526551.001.0001 \"The Motoneurone and its Muscle Fibres\")."
   ]
  },
  {
   "cell_type": "code",
   "execution_count": 2,
   "metadata": {
    "code_folding": []
   },
   "outputs": [
    {
     "data": {
      "application/vnd.jupyter.widget-view+json": {
       "model_id": "da93399c12d64403816005280c44d152",
       "version_major": 2,
       "version_minor": 0
      },
      "text/plain": [
       "HBox(children=(HBox(children=(VBox(children=(IntSlider(value=101, continuous_update=False, description='# Type…"
      ]
     },
     "metadata": {},
     "output_type": "display_data"
    }
   ],
   "source": [
    "ui1,ws1 = util.wi1()\n",
    "out1 = wi.interactive_output(mnpool.view_organization, ws1)\n",
    "display(wi.HBox([ui1,out1]))"
   ]
  },
  {
   "cell_type": "markdown",
   "metadata": {},
   "source": [
    "## Definition of the excitatory (common) drive\n",
    "\n",
    "The common drive and the recruitment pattern of the MUs (defined above) are used to generate the MU spike trains. These spike trains will command the muscle units so as to produce muscle force and electromyogram (EMG).\n",
    "\n",
    "Different force intesities (percentage of the maximum force) may be explored with ***Trapezoidal*** or ***Sinusoidal*** commands. To simulate a steady isometric contraction, you can choose the ***Trapezoidal*** command, and then define ***Plateau on*** as zero and ***Plateau off*** as the final simulation time.\n",
    "\n",
    "MU recruitment and de-recruitment can be observed using a ***Trapezoidal*** command, but in this scenario the value of the parameter ***Onset*** should be less than the ***Plateau on***, and ***Offset*** should be less than ***Plateau off***.\n",
    "\n",
    "Periodic contractions can be simulated by changing the command to the ***Sinusoidal*** waveform, with the following parameters: ***Peak Intensity*** and ***Frequency***."
   ]
  },
  {
   "cell_type": "code",
   "execution_count": 3,
   "metadata": {
    "code_folding": []
   },
   "outputs": [
    {
     "data": {
      "application/vnd.jupyter.widget-view+json": {
       "model_id": "7e767829c5fa4748b4be2e7fd4cadcdc",
       "version_major": 2,
       "version_minor": 0
      },
      "text/plain": [
       "HBox(children=(VBox(children=(IntSlider(value=20000, continuous_update=False, description='Sampling [Hz]:', la…"
      ]
     },
     "metadata": {},
     "output_type": "display_data"
    }
   ],
   "source": [
    "ws2,ui2 = util.wi2()\n",
    "out2 = wi.interactive_output(mnpool.view_excitatory,ws2)\n",
    "display(wi.HBox([ui2,out2]))"
   ]
  },
  {
   "cell_type": "markdown",
   "metadata": {},
   "source": [
    "## Motor unit spike trains\n",
    "\n",
    "The MU activity (spike trains) resembles a sthocastic point process with a gaussian distribution. The model by [Fuglevand et al. (1993)](https://doi.org/10.1152/jn.1993.70.6.2470 \"Models of recruitment and rate coding organization in motor-unit pools\") simulates the spike times as:\n",
    "\n",
    "$$ t_{i,j}= \\mu + \\sigma. Z + t_{i,j-1}$$\n",
    "\n",
    "where:\n",
    "- $ t_{i,j}$ is the $j$-th spike time of the $i$-th MU;\n",
    "- $ \\mu $ is the mean interspike interval (ISI);\n",
    "- $ \\sigma $ is the standard deviation of each ISI, defined as a function of the coefficient of variation ($cv$) and $\\mu$ ($\\sigma = \\mu . cv$);\n",
    "- $ Z$ represents how the spike time deviates from the mean value (a random value between -3.9 and 3.9 from a gaussian distribution).  \n",
    "\n",
    "### Motor unit synchronization\n",
    "\n",
    "Convergent presynaptic commands to the spinal MNs promote common fluctuations on the membrane potentials of these cells. These common sources increases the probability of synchronous discharges of MUs (the so-called MU synchronization).\n",
    "\n",
    "To simulate this phenomenon, we adopted the model by [Yao et al. 2000](https://doi.org/10.1152/jn.2000.83.1.441 \"Motor-Unit Synchronization Increases EMG Amplitude and Decreases Force Steadiness of Simulated Contractions\"). However, an extra step was added to the algorithm in order to deal with time varying excitations (trapezoidal and sinusoidal). The modification followed the proposal by [Shin et al. 2018](https://doi.org/10.1088/1741-2552/aa925d \"Relative contribution of different altered motor unit control to muscle weakness in stroke: a simulation study\"), where the synchronization process is limited to spike times ocurring in a maximum interval of 15 ms.\n",
    "\n",
    "The ***Synch. Level [%]*** operates as follows:\n",
    "1. For each MU in the pool, a percentage of the spike times are randomly picked up to serve as a reference for spike adjustment;\n",
    "2. Given a reference spike, the algorithm selects a percentage of recruited MUs and finds the closest discharge to be adjusted (i.e., the discharge with the minimum distance between the reference spike and all other spikes from the selected MUs). \n",
    "3. The spike time selected in *step 2* is adjusted to the reference spike. A small amount of variability is imposed by the parameter ***Synch. $\\sigma$ [ms]***, so the reference spike time is the mean value while ***Synch. $\\sigma$ [ms]*** is the standard deviation of a gaussian distribution."
   ]
  },
  {
   "cell_type": "code",
   "execution_count": 5,
   "metadata": {
    "code_folding": []
   },
   "outputs": [
    {
     "data": {
      "application/vnd.jupyter.widget-view+json": {
       "model_id": "83b9d30073574877910431aa7d9a8b99",
       "version_major": 2,
       "version_minor": 0
      },
      "text/plain": [
       "interactive(children=(FloatSlider(value=30.0, description='ISI $cv$ [%]:', layout=Layout(width='300px'), max=5…"
      ]
     },
     "metadata": {},
     "output_type": "display_data"
    }
   ],
   "source": [
    "wi3 = util.wi3()\n",
    "_ = wi.interact_manual(mnpool.view_neural_command, CoV = wi3[0], \n",
    "                       synch_level = wi3[1], sigma = wi3[2])"
   ]
  },
  {
   "cell_type": "markdown",
   "metadata": {},
   "source": [
    "# Surface Electromyogram (sEMG)\n",
    "\n",
    "The surface electromyogram (sEMG) emerges from the electric activity of the muscle fibres during a given contraction. Currents flowing across the sarcolemma (as a result of the muscle fiber action potential) produce an electric potential that can be recorded by extracellular electrodes. The recorded extracellular potentials are spatially filtered by the volume conductor, which includes the muscle, adipose, and skin tissues. It is worth noting that the MU territories are sparsely distributed in the muscle cross-section. Here, we represented the sEMG recorded by bipolar electrode (*red star* in the following graph) located on the skin.\n",
    "\n",
    "\n",
    "## Muscle cross section morphology\n",
    "\n",
    "Four different morphologies for the muscle cross section were included to represent the desired muscle. The following morphologies were included: ***Circle***, ***Ring***, ***Pizza***, and ***Ellipse***. Also, cross-section area (***CSA***), fat thickness (***Fat layer [mm]***), and skin thickness (***Skin layer [mm]***) are properties to be adjusted. For the ***Ring***, ***Pizza***, and ***Ellipse*** morphologies you need to adjust two additional parameters:\n",
    "\n",
    "- ***Proportion*** defines, for the ***Ring*** morphology, the ratio between internal and external muscle radii and, for the ***Ellipse***, the ratio between semi-minor and semi-major axes;;\n",
    "- ***Theta [rad]*** defines the \"opening\" of the choosen geometry. In other words, the angle formed between the vertical line (which passes through the origin) and the line that defines the \"side\" boundary of the muscle ***CSA***, which also passes through the origin."
   ]
  },
  {
   "cell_type": "code",
   "execution_count": 7,
   "metadata": {},
   "outputs": [
    {
     "data": {
      "application/vnd.jupyter.widget-view+json": {
       "model_id": "5bc4c582315844ecb2a99b4f43902521",
       "version_major": 2,
       "version_minor": 0
      },
      "text/plain": [
       "HBox(children=(VBox(children=(RadioButtons(description='CSA Morphology:', index=1, layout=Layout(width='300px'…"
      ]
     },
     "metadata": {},
     "output_type": "display_data"
    }
   ],
   "source": [
    "ws4,ui4 = util.wi4()\n",
    "out4 = wi.interactive_output(muscle_emg.view_morpho, ws4)\n",
    "display(wi.HBox([ui4, out4]))"
   ]
  },
  {
   "cell_type": "markdown",
   "metadata": {},
   "source": [
    "## Motor unit distribution within the muscle CSA\n",
    "\n",
    "Many human muscles present some level of MU regionalization within the muscle CSA ([Johnson et al. 1973](https://doi.org/10.1016/0022-510X(73)90023-3 \"Data on the distribution of fibre types in thirty-six human muscles\")). To simulate this MU regionalization, we defined two different distributions, one for MUs innervating type I muscle fibers and another for MUs innervating type II muscle fibers. Each MU position is defined using polar coordinates. All MUs will have their polar angles defined by a random variable with uniform distribution whose limits depend on the choosen morphology. The radial coordinate of each MU is also defined as a random variable, but with a gaussian distribution.\n",
    "\n",
    "The distribution of the radial coordinate is adjusted by the variable ***Type I $\\mu$*** (normalized by the muscle external radius), which defines the center (average) of the distribution for Type I MUs. Also, ***Type I $\\sigma$*** (normalized by the muscle external radius) defines the standard deviation of the gaussian distribution of the radius for Type I MUs. Similarly, ***Type II $\\mu$*** and ***Type II $\\sigma$*** define the center (average) and the standard deviation (both normalized by the muscle external radius) of the distribution for Type II (a and b) MUs, respectively.\n",
    "\n",
    "### Muscle fiber ratio\n",
    "\n",
    "The MU territory area is highly correlated with the number of muscle fibers innervated by a single MN, which varies across the MU pool ([Enoka and Fuglevand 2001](https://doi.org/10.1002/1097-4598(200101)24:1<4::AID-MUS13>3.0.CO;2-F \"Motor unit physiology: Some unresolved issues\")). A typical skeletal muscle comprises many MUs with relatively few muscle fibers and few MUs with a large quantity of muscle fibers.  This MU innervation ratio along the motor pool can be modelled as:\n",
    "\n",
    "$$y_i = y_1.exp \\left (ln(R)\\frac{i}{n} \\right )$$\n",
    "\n",
    "where:\n",
    "- $y_i$ is the innervation number of the $i$-th MU;\n",
    "- $y_1$ is the innervation number of the smallest MU;\n",
    "- $n$ is the total number of MUs;\n",
    "- $R$ is the ***Innervation number ratio*** between the largest ($y_n$) and smallest ($y_1$) MU."
   ]
  },
  {
   "cell_type": "code",
   "execution_count": 8,
   "metadata": {
    "code_folding": [
     3
    ]
   },
   "outputs": [
    {
     "data": {
      "application/vnd.jupyter.widget-view+json": {
       "model_id": "8c60bc1ff68d4476ae962dc2c0d37e79",
       "version_major": 2,
       "version_minor": 0
      },
      "text/plain": [
       "VBox(children=(HBox(children=(VBox(children=(FloatSlider(value=0.7, continuous_update=False, description='Type…"
      ]
     },
     "metadata": {},
     "output_type": "display_data"
    }
   ],
   "source": [
    "ui5,ws5 = util.wi5()\n",
    "out5 = wi.interactive_output(muscle_emg.view_distribution, ws5)\n",
    "display(wi.VBox([ui5, out5]))"
   ]
  },
  {
   "cell_type": "markdown",
   "metadata": {},
   "source": [
    "## Motor unit action potentials (MUAPs)\n",
    "\n",
    "MU action potentials (MUAP) observed from bipolar electrodes at skin surface can be represented by 1st and 2nd order Hermite-Rodriguez (HR) functions ([Lo Conte et al. 1994](http://doi.org/10.1109/10.335863 \"Hermite Expansions of Compact Support Waveforms: Applications to Myoelectric Signals\")). These functions fit well the MUAP shape and has been used in previous studies. The 1st-order HR function models biphasic MUAPs while the 2nd-order HR function models triphasic MUAPs. These functions are defined by the following equations:\n",
    "\n",
    "$$\\begin{align}\n",
    "HR_1(t) &= \\frac{A_M.(t-t_{AP})}{\\lambda_M} e^{  - \\left (\\frac{t-t_{AP}}{\\lambda_M} \\right )^2}u(t-t_{AP}) \\\\\n",
    "HR_2(t) &= A_M \\left [1 - 2 \\left ( \\frac{t-t_{AP}}{\\lambda_M} \\right )^2 \\right ] e^{- \\left (\\frac{t-t_{AP}}{\\lambda_M} \\right )^2} u(t-t_{AP})\n",
    "\\end{align}$$\n",
    "\n",
    "where:\n",
    "- $HR_k$ is the $k$-th order Hermite-Rodriguez (HR) function;\n",
    "- $A_M$ is the amplitude factor;\n",
    "- $\\lambda_M$ is the duration factor;\n",
    "- $t$ is simulation time;\n",
    "- $t_{AP}$ is the MU discharge time;\n",
    "- $u$ is the Heaviside (step) function.\n",
    "\n",
    "For each MU, distinct amplitude and duration factors are attributed. To define each MUAP amplitude factor, an exponential interpolation between the ___First MUAP amplitude [mV]___ and the ___Last MUAP amplitude [mV]___ is used. The same method is adopted to define the duration factors of each MUAP."
   ]
  },
  {
   "cell_type": "code",
   "execution_count": 13,
   "metadata": {},
   "outputs": [
    {
     "data": {
      "application/vnd.jupyter.widget-view+json": {
       "model_id": "9e9a6ab6ddeb4aee81b9216f48e2dad1",
       "version_major": 2,
       "version_minor": 0
      },
      "text/plain": [
       "VBox(children=(RadioButtons(description='Hermite Rodrigues function:', options=('1rst order', '2nd order'), st…"
      ]
     },
     "metadata": {},
     "output_type": "display_data"
    },
    {
     "data": {
      "application/vnd.jupyter.widget-view+json": {
       "model_id": "bf691150f9774ed1a037ee2056ea2f0a",
       "version_major": 2,
       "version_minor": 0
      },
      "text/plain": [
       "Output()"
      ]
     },
     "metadata": {},
     "output_type": "display_data"
    }
   ],
   "source": [
    "ui6,ws6 = util.wi6()\n",
    "out6 = wi.interactive_output(muscle_emg.view_muap, ws6)\n",
    "display(ui6, out6)"
   ]
  },
  {
   "cell_type": "markdown",
   "metadata": {},
   "source": [
    "## Volume conductor (spatial filtering)\n",
    "\n",
    "The volume conductor (characterized by muscle, fat, and skin tissues) filtering effect is modelled as isotropic and proportional to the distance between the MU territory center and the electrode on the skin surface. The the following equations ([Cisi and Kohn 2008](http://doi.org/10.1007/s10827-008-0092-8 \"Simulation system of spinal cord motor nuclei and associated nerves and muscles, in a Web-based architecture\")) were used to model the amplitude attenuation and MUAP widening caused by the spatial filtering of the volume conductor:\n",
    "\n",
    "$$\\begin{align}\n",
    "V &= V_0. e^{ \\left ( \\frac{-d}{\\tau_{at}} \\right )} \\\\\n",
    "T &= T_0.(1+C.d)\n",
    "\\end{align} $$\n",
    "\n",
    "where:\n",
    "- $V$ is the MUAP amplitude recorded by the surface electrode;\n",
    "- $V_0$ is the MUAP amplitude at the center of the MU territory;\n",
    "- $d$ is the distance between the center of the MU territory and the center of the bipolar EMG sensor;\n",
    "- $\\tau_{at}$ is the ___Amplitude attenuation factor [$mm^{-1}$]___;\n",
    "- $T$ is the MUAP duration at the electrode;\n",
    "- $T_0$ is the MUAP duration at the center of the MU territory;\n",
    "- $C$ is the MUAP ___Widening factor [$mm^{-1}$]___."
   ]
  },
  {
   "cell_type": "code",
   "execution_count": 14,
   "metadata": {},
   "outputs": [
    {
     "data": {
      "application/vnd.jupyter.widget-view+json": {
       "model_id": "832162bb48e84892baafec01fdeaff4a",
       "version_major": 2,
       "version_minor": 0
      },
      "text/plain": [
       "HBox(children=(FloatSlider(value=0.005, continuous_update=False, description='Amplitude Attenuation Factor [mm…"
      ]
     },
     "metadata": {},
     "output_type": "display_data"
    },
    {
     "data": {
      "application/vnd.jupyter.widget-view+json": {
       "model_id": "c4a64079a2c442eda05d2fe6a8faa158",
       "version_major": 2,
       "version_minor": 0
      },
      "text/plain": [
       "Output()"
      ]
     },
     "metadata": {},
     "output_type": "display_data"
    }
   ],
   "source": [
    "ui7,ws7 = util.wi7()        \n",
    "out7= wi.interactive_output(muscle_emg.view_attenuation,ws7)\n",
    "display(ui7,out7)"
   ]
  },
  {
   "cell_type": "markdown",
   "metadata": {},
   "source": [
    "## Generation of sEMG\n",
    "The surface electromiogram (sEMG) is modelled as the summed activity of all filtered MUAPs and each MUAP train has uniform and equal probabilities to be represented by first or second order Hermite-Rodriguez Functions. Some noise is always present in experimentally measures and can be added as  user wish by adjusting the ___Noise level (Standard deviation)[mV]___ variable. Also,  we applied a 4th order Butterworth bandpass filter to clear the signal from undesired frequencies, which cut frequencies can be adjust by ___Bandpass filter low cut [Hz]___ and ___Bandpass filter high cut [Hz]___."
   ]
  },
  {
   "cell_type": "code",
   "execution_count": 9,
   "metadata": {
    "code_folding": []
   },
   "outputs": [
    {
     "data": {
      "application/vnd.jupyter.widget-view+json": {
       "model_id": "f38b544bca6748b19b392325ac0b8d96",
       "version_major": 2,
       "version_minor": 0
      },
      "text/plain": [
       "interactive(children=(Checkbox(value=True, description='Add Noise', layout=Layout(width='400px'), style=Descri…"
      ]
     },
     "metadata": {},
     "output_type": "display_data"
    }
   ],
   "source": [
    "wi8 = util.wi8()\n",
    "_ = wi.interact_manual(muscle_emg.view_semg, add_noise = wi8[0], noise_level = wi8[1], \n",
    "                       add_filter = wi8[4], bplc = wi8[2], bphc = wi8[3])"
   ]
  },
  {
   "cell_type": "markdown",
   "metadata": {},
   "source": [
    "## Analysis of sEMG signal\n",
    "\n",
    "To analyse the EMG signal in time domain, which can be non-stationary,  we used in this work a simple moving RMS technique. It is a type of finite impulse response filter and is used to smooth the short-term fluctuations and highlight longer-term trend. For other time domain methods: [Challis and Kitney, 1990](https://doi.org/10.1007/BF02442601 \"Biomedical signal processing (in four parts) - Part 1 Time-domain methods\"). Furthermore, to analyse the EMG signal in frequency domain, we used two methods: Welch's periodogram ([Challis and Kitney, 1991](https://doi.org/10.1007/BF02446704 \"Biomedical signal processing (in four parts) - Part Part 3 The power spectrum and coherence function\")) and Spectrogram. Welch's method is an approach for spectral density estimation, which has the property to reduces noise in exchange of frequency resolution. This method is applied on the entire analysis interval and adequate for stationary signals. The Spectrogram method, which uses Short-time Fourier transform to be generated, is used to determine sinusoidal frequency of the EMG signal as it changes over time and is suitable for non-stationary signals.  \n",
    "Still in the following cell, one can visualize each motor unit action potential train contribution, after volume conductor filtering, for the EMG signal by choosen the ___motor unit index #___."
   ]
  },
  {
   "cell_type": "code",
   "execution_count": 10,
   "metadata": {
    "scrolled": false
   },
   "outputs": [
    {
     "data": {
      "application/vnd.jupyter.widget-view+json": {
       "model_id": "b108a4b39c384fe4bfdde7dc20ccf7ab",
       "version_major": 2,
       "version_minor": 0
      },
      "text/plain": [
       "VBox(children=(FloatRangeSlider(value=(0.0, 4999.950000000001), continuous_update=False, description='Analysis…"
      ]
     },
     "metadata": {},
     "output_type": "display_data"
    },
    {
     "data": {
      "application/vnd.jupyter.widget-view+json": {
       "model_id": "3c8ee484c3644e1296d20a2de5f11df8",
       "version_major": 2,
       "version_minor": 0
      },
      "text/plain": [
       "Output()"
      ]
     },
     "metadata": {},
     "output_type": "display_data"
    }
   ],
   "source": [
    "ui9,ws9 = util.wi9(muscle_emg)\n",
    "out9 = wi.interactive_output(muscle_emg.analysis, ws9)\n",
    "display(ui9, out9)"
   ]
  },
  {
   "cell_type": "markdown",
   "metadata": {},
   "source": [
    "# Muscle Force\n",
    "\n",
    "## Motor unit twitch\n",
    "\n",
    "MU twitch is the mechanical response of muscle fibres to action potentials arriving at the neuromuscular junction. Under isometric conditions, muscle twitch can be modelled as the impulse response of a second-order critically damped system  ([Milner-brown et al., 1973](https://doi.org/10.1113/jphysiol.1973.sp010087 \"The contractile properties of human motor units during voluntary isometric contractions\")). The general expression for a second-order critically damped impulse response is:\n",
    "\n",
    "$$ F(t) = P \\frac{t}{T}exp(-t/T)u(t) \\; , \\quad t \\in \\Re$$\n",
    "\n",
    "where:\n",
    "- $F(t)$ is the MU twitch force;\n",
    "- $P$ is the twitch amplitude;\n",
    "- $T$ is the time to peak;\n",
    "- $u(t)$ is the Heaviside step function.\n",
    "\n",
    "The twitch amplitude is directly related to its size and recruitment threshold, being modelled by the following equation ([Fuglevand et al., 1993](https://doi.org/10.1152/jn.1993.70.6.2470 \"Models of recruitment and rate coding organization in motor-unit pools\")).:\n",
    "\n",
    "$$ P_i = P_0.e^{\\frac{ln(RP).i}{n}}$$\n",
    "\n",
    "where:\n",
    "- $P_i$ is the peak twitch tension of the MU $i$;\n",
    "- $P_0$ is the peak twitch force of the first MU;\n",
    "- $RP$ is the the range of twitch forces;\n",
    "- $n$ is the number of MUs in the pool.\n",
    "\n",
    "The twitch time-to-peak organization of the MU pool can be modelled by an exponential curve, as proposed by the original paper ([Fuglevand et al., 1993](https://doi.org/10.1152/jn.1993.70.6.2470 \"Models of recruitment and rate coding organization in motor-unit pools\")):\n",
    "\n",
    "$$ T_i=T_L \\left ( \\frac{1}{P_i} \\right )^{1/log_{RT}RP} $$\n",
    "\n",
    "where:\n",
    "- $T_i$ is the twitch time for tension reach a maximum for motor unit $i$;\n",
    "- $T_L$ is the largest $T_i$;\n",
    "- $RT$ is the desired range of $T_i$ observed in the MU pool.\n",
    "\n",
    "Assuming that the twitch time-to-peak is not related to MU size, one can set the radio button `Twitch duration` to `Random uniform`. This will result in a randomly, uniformly distributed, time-to-peak for each MU between the interval defined by $T_L/RT$ and $T_L$  (for more information about this topic, check [Bigland-Ritche et al., 1998](http:doi.org/10.1177/107385849800400413 \"Contractile properties of human motor units: Is man a cat?\"))."
   ]
  },
  {
   "cell_type": "code",
   "execution_count": 11,
   "metadata": {},
   "outputs": [
    {
     "data": {
      "application/vnd.jupyter.widget-view+json": {
       "model_id": "2281fa2490304aa59996e11f55bb71bc",
       "version_major": 2,
       "version_minor": 0
      },
      "text/plain": [
       "VBox(children=(IntSlider(value=3, continuous_update=False, description='$P_0$ [mN]:', layout=Layout(width='300…"
      ]
     },
     "metadata": {},
     "output_type": "display_data"
    },
    {
     "data": {
      "application/vnd.jupyter.widget-view+json": {
       "model_id": "dff183097f514a75b87e8eec799cd654",
       "version_major": 2,
       "version_minor": 0
      },
      "text/plain": [
       "Output()"
      ]
     },
     "metadata": {},
     "output_type": "display_data"
    }
   ],
   "source": [
    "ui10,ws10 = util.wi10()\n",
    "out10 = wi.interactive_output(muscle_force.view_mu_twitch, ws10)\n",
    "display(ui10,out10)"
   ]
  },
  {
   "cell_type": "markdown",
   "metadata": {},
   "source": [
    "## Motor unit tetanic force\n",
    "\n",
    "The MU behavior has a number of nonlinear properties, including a change in the gain of the stimulus rate-MU isometric force system ([Milner-brown et al., 1973](https://doi.org/10.1113/jphysiol.1973.sp010087 \"The contractile properties of human motor units during voluntary isometric contractions\")). This relationship between stimulus rate and MU isometric force has a sigmoidal shape, saturating at a given stimulus rate. Usually, the stimulus rate for MU force saturation is bigger then 50 imp/s for muscles that control digits of the hand ([Fuglevand et al, 1999](https://doi.org/10.1152/jn.1999.81.4.1718 \"Force-Frequency and Fatigue Properties of Motor Units in Muscles That Control Digits of the Human Hand\")).\n",
    "\n",
    "\n",
    "To simulate the saturation mechanisms, i.e., the non-linear relationship between stimulus rate and MU force, we used the following function ([Watanabe et al., 2013](https://doi.org/10.1152/jn.00073.2013 \"Influences of premotoneuronal command statistics on the scaling of motor output variability during isometric plantar flexion\")):\n",
    "\n",
    "$$ F_{sat} (t)=\\frac{1-exp(-c.F(t))}{1+exp(-c.F(t))} $$\n",
    "\n",
    "To find which value of $c$ makes $F_{sat}(t)$ saturates at a desired stimulus rate, we first simulate the MU being stimulated at this rate and with unitary twitch amplitude ($P=1$). Then, we use the secant method (root-finding algorithm with secant lines with better approximations in each step) to find which $c$ value zeroes the function:\n",
    "\n",
    "$$max(F_{sat}(t)) - 0.999 = 0$$ \n",
    "\n",
    "The shape of the stimulus rate-force relationship depends on the contractile properties of the MU. MU twitches with larger time-to-peak intervals tend to fuse faster when compared with shorter intervals. It is also important to note that the stimulus rate for MU force saturation  is much higher than the rate associated with maximum voluntary contractions (approximately a mean rate of 35 imp/s for the FDI muscle, [Enoka and Fuglevand, 2001](https://doi.org/https://doi.org/10.1002/1097-4598(200101)24:1<4::AID-MUS13>3.0.CO;2-F \"Motor unit physiology: Some unresolved issues:\")). \n",
    "\n"
   ]
  },
  {
   "cell_type": "code",
   "execution_count": 12,
   "metadata": {},
   "outputs": [
    {
     "data": {
      "application/vnd.jupyter.widget-view+json": {
       "model_id": "273963f3689b49d78cf3371b27466d49",
       "version_major": 2,
       "version_minor": 0
      },
      "text/plain": [
       "VBox(children=(IntSlider(value=50, continuous_update=False, description='First motor unit saturation frequency…"
      ]
     },
     "metadata": {},
     "output_type": "display_data"
    },
    {
     "data": {
      "application/vnd.jupyter.widget-view+json": {
       "model_id": "c3bd5248eebb4c33b8079bc1cd862829",
       "version_major": 2,
       "version_minor": 0
      },
      "text/plain": [
       "Output()"
      ]
     },
     "metadata": {},
     "output_type": "display_data"
    }
   ],
   "source": [
    "ui11,ws11 = util.wi11(muscle_force)\n",
    "out11 = wi.interactive_output(muscle_force.view_saturation, ws11)\n",
    "display(ui11, out11)"
   ]
  },
  {
   "cell_type": "markdown",
   "metadata": {},
   "source": [
    "## Generation of muscle force\n",
    "\n",
    "At this point, all of the force parameters are defined and simulation is ready to start (`run interact` button). To speed up simulation process, we used the discrete-time version of the spike train and twitch models. The spike train was viewed as an uniform pulse train of Kronecker deltas:\n",
    "\n",
    "$$ s(n) = \\sum_j \\delta(n-n_j) \\; , \\quad n \\in Z$$\n",
    "\n",
    "where:\n",
    "- $n_j$ is the $j$ MU spike time;\n",
    "- $\\delta(n)$ is the Kronecker delta function.\n",
    "\n",
    "The twitch model was seen as a linear time-invariant system and it's sampled version is obtained with the impulse invariance technique. Then, the z-transform  is used to obtain the difference equation that describes the linear part of the force developed by one MU ([Cisi and Kohn, 2008](https://doi.org/10.1007/s10827-008-0092-8 \"Simulation system of spinal cord motor nuclei and associated nerves and muscles, in a Web-based architecture.\")):\n",
    "\n",
    "$$     \\begin{split}\n",
    "F_{MU_i}(n) =  2 \\, exp \\left( \\frac{- \\Delta t}{T_{i}} \\right ) \\, F_{MU_i} (n-1) \\, -exp \\left ( \\frac{-2 \\Delta t}{T_i} \\right )F_{MU_i}(n-2)   \\\\\n",
    " + \\frac{\\displaystyle P_i \\, \\Delta t^2}{\\displaystyle T_i} exp \\left (  1- \\frac{\\Delta t}{T_i} \\right ) s(n-1)\n",
    "    \\end{split} $$\n",
    "\n",
    "where:\n",
    "- $F_{MU_i}(n)$ is the force of MU $i$ at the instant $n$;\n",
    "- $\\Delta t$ is the integration time step;\n",
    "\n",
    "The last step in MU force generation is to add the saturation mechanism, described by the sigmoidal function $F_{sat}(t)$. Finally, muscle force is computed as the sum of all MU forces."
   ]
  },
  {
   "cell_type": "code",
   "execution_count": 13,
   "metadata": {},
   "outputs": [
    {
     "data": {
      "application/vnd.jupyter.widget-view+json": {
       "model_id": "d35d521524e546f19c120a9902d55399",
       "version_major": 2,
       "version_minor": 0
      },
      "text/plain": [
       "interactive(children=(Button(description='Run Interact', style=ButtonStyle()), Output()), _dom_classes=('widge…"
      ]
     },
     "metadata": {},
     "output_type": "display_data"
    }
   ],
   "source": [
    "wif = wi.interact_manual(muscle_force.gen_force)"
   ]
  },
  {
   "cell_type": "markdown",
   "metadata": {},
   "source": [
    "## Analysis of muscle force signal\n",
    "\n",
    "Similar to the EMG analysis, the following cell uses Welch's periodogram and Spectrogram to analyse the muscle force signal in spectral domain. In time domain, standard deviation is used to analyse muscle force. It is also possible to observe single MU force contribution by ticking `Add motor unit contribution` in the `Motor unit Force` tab."
   ]
  },
  {
   "cell_type": "code",
   "execution_count": 14,
   "metadata": {},
   "outputs": [
    {
     "data": {
      "application/vnd.jupyter.widget-view+json": {
       "model_id": "ee478ddc821d48caa376147337aec7e4",
       "version_major": 2,
       "version_minor": 0
      },
      "text/plain": [
       "VBox(children=(FloatRangeSlider(value=(0.0, 5999.950000000001), description='Analysis interval [ms]', layout=L…"
      ]
     },
     "metadata": {},
     "output_type": "display_data"
    },
    {
     "data": {
      "application/vnd.jupyter.widget-view+json": {
       "model_id": "ba0ec7a1a755447eb376c8848b51b6d9",
       "version_major": 2,
       "version_minor": 0
      },
      "text/plain": [
       "Output()"
      ]
     },
     "metadata": {},
     "output_type": "display_data"
    }
   ],
   "source": [
    "ui12, ws12 = util.wi12(muscle_force)\n",
    "out12 = wi.interactive_output(muscle_force.analysis, ws12)\n",
    "display(ui12, out12)"
   ]
  },
  {
   "cell_type": "markdown",
   "metadata": {},
   "source": [
    "# Saving Simulation Results\n",
    "\n",
    "The configuration used to simulate this neuromuscular system and its results can be saved in the following folder: `\\simulation_results\\folder_name`. The ***folder name*** can be selected in the following cell. To save it, just click on **Run interact** button.\n"
   ]
  },
  {
   "cell_type": "code",
   "execution_count": 15,
   "metadata": {},
   "outputs": [
    {
     "data": {
      "application/vnd.jupyter.widget-view+json": {
       "model_id": "540326bd2cde4060a7583c859bff150b",
       "version_major": 2,
       "version_minor": 0
      },
      "text/plain": [
       "interactive(children=(Checkbox(value=True, description='Save Simulation Config.'), Checkbox(value=True, descri…"
      ]
     },
     "metadata": {},
     "output_type": "display_data"
    }
   ],
   "source": [
    "ws13 = util.wi13()\n",
    "_ = wi.interact_manual(sim.save_results, save_conf = ws13[0], save_emg = ws13[2], \n",
    "                          save_force = ws13[3], folder_name = ws13[4], save_spikes = ws13[1])"
   ]
  }
 ],
 "metadata": {
  "kernelspec": {
   "display_name": "Python 3",
   "language": "python",
   "name": "python3"
  },
  "language_info": {
   "codemirror_mode": {
    "name": "ipython",
    "version": 3
   },
   "file_extension": ".py",
   "mimetype": "text/x-python",
   "name": "python",
   "nbconvert_exporter": "python",
   "pygments_lexer": "ipython3",
   "version": "3.8.3"
  },
  "toc": {
   "base_numbering": 1,
   "nav_menu": {},
   "number_sections": true,
   "sideBar": true,
   "skip_h1_title": false,
   "title_cell": "Table of Contents",
   "title_sidebar": "Contents",
   "toc_cell": false,
   "toc_position": {
    "height": "762px",
    "left": "766.4px",
    "top": "141.133px",
    "width": "323.767px"
   },
   "toc_section_display": true,
   "toc_window_display": true
  }
 },
 "nbformat": 4,
 "nbformat_minor": 2
}
