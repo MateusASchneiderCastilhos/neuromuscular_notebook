{
 "cells": [
  {
   "cell_type": "markdown",
   "metadata": {},
   "source": [
    "![NERLab](http://www.fee.unicamp.br/sites/default/files/docentes/leoelias/imagens/logo_v1%28WEB%29.png)\n",
    "--"
   ]
  },
  {
   "cell_type": "markdown",
   "metadata": {},
   "source": [
    "This notebook encompasses a brief description and a mathematical model of the mechanisms associated with the generation of muscle force and surface electromyogram (sEMG) during voluntary isometric contractions. The main structure present in this model is the motor unit (MU) pool and also includes time and frequency domain metrics for post-processing analysis.\n",
    "\n",
    "- Version 0.1: Jan. 6, 2019;\n",
    "- Version 0.2: July 22, 2019;\n",
    "- Version 0.3: October 3, 2019;\n",
    "- Version 0.4 | Last update: October 27, 2020.\n",
    "\n",
    "Authors:  \n",
    "[Ricardo Gonçalves Molinari](mailto:molinari@gmail.com) and [Leonardo Abdala Elias](mailto:leoelias@fee.unicamp.br)\n",
    "\n",
    "# Import libraries and create model objects"
   ]
  },
  {
   "cell_type": "code",
   "execution_count": 1,
   "metadata": {},
   "outputs": [],
   "source": [
    "from nerlab import  fug, emg, force, util\n",
    "import ipywidgets as wi\n",
    "\n",
    "util.config_plots()\n",
    "mnpool = fug.Phemo()\n",
    "muscle_emg = emg.Emg_mod(mnpool)\n",
    "muscle_force = force.Muscle_force(mnpool)\n",
    "sim = util.sim_results(mnpool, muscle_emg, muscle_force)"
   ]
  },
  {
   "cell_type": "markdown",
   "metadata": {},
   "source": [
    "# The motor neuron pool model\n",
    "## Motor unit recruitment-firing rate relationship\n",
    "This notebook  section generates the relatioship between the common drive input (composed of peripheral, spinal and descending excitatory inputs) to the motor neuron pool and each motor neuron firing rate of the pool. Each motor unit (MU) is composed by one motor neuron and it's innervated muscle fibers. This phenomelogical approach to motor unit pools is based on the work of [Fuglevand et al. (1993)](https://doi.org/10.1152/jn.1993.70.6.2470 \"Models of recruitment and rate coding organization in motor-unit pools\").  \n",
    "In this model we define 3 types of MUs, which are:\n",
    "- Type I motor units are the first recruited (lower excitation threshold) and have slow-contracting muscle fibres with lower amplitudes.\n",
    "- Type IIa motor units are recruited latter (higher excitation threshold) and have fast-contracting muscle fibre with high amplitudes.\n",
    "- Type IIb motor units are recruited last (highest excitation threshold) and have very fast-contracting muscle fibres with the highest amplitudes.\n",
    "\n",
    "### Recruitment Range\n",
    "___Recruitment range___  defines the relation between each motor unit recruitment threshold excitation by the equation:\n",
    "$$RTE_i  =exp \\left ( \\frac{ln(RR)i}{n} \\right )$$\n",
    "where:\n",
    "- $RTE_i$ is the recruitment threshold excitation of motor unit $i$;\n",
    "- $RR$ is the Recruitment range;\n",
    "- $i$ is the motor unit index;\n",
    "- $n$ is the total number of Motor units.  \n",
    "\n",
    "\n",
    "### Excitatory drive-firing rate relationship\n",
    "The firing rate of a motor neuron is based on the work of [Fuglevand et al. (1993)](https://doi.org/10.1152/jn.1993.70.6.2470 \"Models of recruitment and rate coding organization in motor-unit pools\") and the equations that rule this model are:\n",
    "$$\\begin{align}\n",
    "     if \\quad e(t) \\ge RTE_i , \\quad  fr_i(t) &= g_{i}(e(t)-RTE_i) + MFR \\\\\n",
    "     else \\quad fr_i(t) & = 0\\\\\n",
    "    \\end{align}$$\n",
    "\n",
    "where:\n",
    "- $e(t)$ is the excitatory drive (or common drive) as function of time;\n",
    "- $fr_i(t)$ is the mean firing rate of MU $i$ at instant of time $t$; \n",
    "- $g_{i}$ is the excitatory driving-firing rate gain for MU $i$;\n",
    "- $MFR$ is the minimum firing rate;\n",
    "- $PFR_i$ is the peak firing rate of motor unit with index $i$, defined by: \n",
    "\n",
    "    $$ PFR_i   = PFR_1 - PFRD \\frac{RTE_i}{RTE_n} $$\n",
    "    \n",
    "- $PFRD$ is the peak firing rate difference between first and last recruited MU of the pool;\n",
    "\n",
    "- $g_{i}$ is the excitatory drive-firing rate gain for MN $i$ and is  defined by the following:\n",
    "\n",
    "$$ \\begin{align}\n",
    "    g_{i} &= g_{var}(i) \\frac{PFR_i - MFR}{e_{max} - RTE_i} \\\\\n",
    "    e_{max} &= \\frac{RTE_n}{\\tilde{e}_{LR}} \\\\\n",
    "\\end{align}$$\n",
    "\n",
    "where:\n",
    "- $e_{max}$ is the maximum excitatory drive to the MN pool;\n",
    "- $\\tilde{e}_{LR}$ is the normalized (by $e_{max}$) excitatory drive that recruit the last MN.\n",
    "- $g_{var}(i)$ returns $n$ ($n$ = number of MUs) evenly spaced numbers between 1 and $g_{var}(n)$.\n",
    "\n",
    "If the checkbox __Same gain for all MNs?__ is ticked, $g_{var}(i) = g_{var}(n)$, resulting in the same $g_{i}$ for all MNs.\n",
    "\n",
    "For more information about motor units check out [Kernell (2006)](https://doi.org/10.1093/acprof:oso/9780198526551.001.0001 \"The Motoneurone and its Muscle Fibres\")."
   ]
  },
  {
   "cell_type": "code",
   "execution_count": 2,
   "metadata": {
    "code_folding": []
   },
   "outputs": [
    {
     "data": {
      "application/vnd.jupyter.widget-view+json": {
       "model_id": "dfe4c8afcaef4724948308603ffb08e8",
       "version_major": 2,
       "version_minor": 0
      },
      "text/plain": [
       "HBox(children=(HBox(children=(VBox(children=(IntSlider(value=101, continuous_update=False, description='# Type…"
      ]
     },
     "metadata": {},
     "output_type": "display_data"
    }
   ],
   "source": [
    "ui1,ws1 = util.wi1()\n",
    "out1 = wi.interactive_output(mnpool.view_organization, ws1)\n",
    "display(wi.HBox([ui1,out1]))"
   ]
  },
  {
   "cell_type": "markdown",
   "metadata": {},
   "source": [
    "## Motor neuron pool common drive\n",
    "The MN pool common drive and the recruitment-firing rate are used to generate the motor unit spike trains to the muscle. These spikes  will promote the isometric force  and electric activity fullfiled by the muscle. Different intesities(% of the maximum) may be explored with Trapezoidal or Senoidal time-series. To simulate constant isometric force, choose Trapezoidal, defines **_Plateau on_** as zero and ___Plateau off___ as maximum time. Recruitment and de-recruitment may been seen also using trapezoidal shape time-series , but ___Onset___ must be less the ___Plateau on___ and ___Offset___ must be less then ___Plateau off___. Periodic contractions may be explored with the Senoidal shape time-series, defining the maximum ___intensity___ and ___frequency___."
   ]
  },
  {
   "cell_type": "code",
   "execution_count": 3,
   "metadata": {
    "code_folding": []
   },
   "outputs": [
    {
     "data": {
      "application/vnd.jupyter.widget-view+json": {
       "model_id": "846986e6a2a94ed0a8ff496c8f6dcfa0",
       "version_major": 2,
       "version_minor": 0
      },
      "text/plain": [
       "HBox(children=(VBox(children=(IntSlider(value=20000, continuous_update=False, description='Sampling [Hz]:', la…"
      ]
     },
     "metadata": {},
     "output_type": "display_data"
    }
   ],
   "source": [
    "ws2,ui2 = util.wi2()\n",
    "out2 = wi.interactive_output(mnpool.view_excitatory,ws2)\n",
    "display(wi.HBox([ui2,out2]))"
   ]
  },
  {
   "cell_type": "markdown",
   "metadata": {},
   "source": [
    "## Motor unit spike trains\n",
    "The motor unit activity (spike train) resembles a sthocastic point process with a gaussian distribution. In this way, the work of [Fuglevand et al. (1993)](https://doi.org/10.1152/jn.1993.70.6.2470 \"Models of recruitment and rate coding organization in motor-unit pools\") simulates the spike times by the equation:\n",
    "\n",
    "$$ t_{i,j}= \\mu + \\sigma. Z + t_{i,j-1}$$\n",
    "\n",
    "where:\n",
    "- $ t_{i,j}$ is the $j$ spike time of the MN $i$;\n",
    "- $ \\mu $ is the mean inter spike interval (ISI) of MN $i$;\n",
    "- $ \\sigma $ is the ISI standard deviation, defined as a function of the coefficient of variation ($cv$) and $mu$, $\\sigma = \\mu . cv$;\n",
    "- $ Z$ represents how the spike time deviates from the mean value, been randomly selected between $-3.9$ and $3.9$ from a gaussian distribution;  \n",
    "\n",
    "### Synchronism\n",
    "Synchronous activity of MUs (i.e., near simultaneous APs produced by distinct MNs) is an emerging phenomenon caused by the common synaptic input to the MN pool. In this model, synchronization is imposed by the algorithm proposed by [Yao et al. 2000](https://doi.org/10.1152/jn.2000.83.1.441 \"Motor-Unit Synchronization Increases EMG Amplitude and Decreases Force Steadiness of Simulated Contractions\"). The original algorithm was modified in step 2 to deal with non-stationary excitatory drives, limiting synchronization process between spike times that ocurried in a maximum 15ms interval ([Shin et al. 2018](https://doi.org/10.1088/1741-2552/aa925d \"Relative contribution of different altered motor unit control to muscle weakness in stroke: a simulation study\")).\n",
    "\n",
    "The scheme to add synchrony occurs after the sthocastic point process  that generates MU activity. The slider __Synch. level [%]__ controls the intensitify of the synchronization process, defining the percentage  used in each one of the following step:\n",
    "1. For each MU in the pool, a percentage of the spike times are randomly picked to serve as reference for spike time adjustment;\n",
    "2. Then, for each spike time picked in the last step, a percentage of the other recruited MUs are randomly picked to have it closest spike time adjusted to the reference.\n",
    "3. The last step of the algorithm add some variability to the adjusted spike time, controlled by the slider __Synch. $\\sigma$ [ms]__."
   ]
  },
  {
   "cell_type": "code",
   "execution_count": 4,
   "metadata": {
    "code_folding": []
   },
   "outputs": [
    {
     "data": {
      "application/vnd.jupyter.widget-view+json": {
       "model_id": "e034e553e4a74f8e8c3f7e53e6b53e03",
       "version_major": 2,
       "version_minor": 0
      },
      "text/plain": [
       "interactive(children=(FloatSlider(value=30.0, description='ISI $cv$ [%]:', layout=Layout(width='300px'), max=5…"
      ]
     },
     "metadata": {},
     "output_type": "display_data"
    }
   ],
   "source": [
    "wi3 = util.wi3()\n",
    "_ = wi.interact_manual(mnpool.view_neural_command, CoV = wi3[0], \n",
    "                       synch_level = wi3[1], sigma = wi3[2])"
   ]
  },
  {
   "cell_type": "markdown",
   "metadata": {},
   "source": [
    "# Muscle surface electromiography generation model\n",
    "The muscle surface electromiography (EMG) derives from electric activity of motor unit muscle fibres , which are sparselly distributed across muscles. These signals travels across muscle, fat and skin tissue till reach the bipolar electrode (_red star_ in the following graphic) at skin surface. In this work, we modelled four factors that operates the EMG signal generation by the following: \n",
    "- Muscle cross-section morphology;\n",
    "- Motor unit distribution within muscle cross-sectional area;\n",
    "- Motor unit action potentials;\n",
    "- Volume conductor (spatial filtering).\n",
    "\n",
    "## Muscle cross-section morphology\n",
    "Four different types of muscle cross-section morphology can be modeled to better represent the desired muscle by the following geometries: circle , ring, pizza, and ellipse. Also, cross-sectional area (___CSA___), fat thickness (___fat layer [mm]___) and skin thickness (___skin layer [mm]___) are features to be adjusted. The ring, pizza, and ellipse geometries needs two more configurations:\n",
    "- ___Proportion___ defines, for ___ring___ geometry, the ratio between internal and external muscle radius and, for ___ellipse___ geometry,  the ratio between semi-minor and semi-major axes;\n",
    "- ___Theta [rad]___ defines the \"opening\" of the choosen geometry. In other words, the angle formed between the vertical line (which passes through the origin) and the line that defines the \"side\" frontier of the muscle CSA, which also passes through the origin."
   ]
  },
  {
   "cell_type": "code",
   "execution_count": 5,
   "metadata": {},
   "outputs": [
    {
     "data": {
      "application/vnd.jupyter.widget-view+json": {
       "model_id": "b6b62e310fd44a339df84b6ae9be7717",
       "version_major": 2,
       "version_minor": 0
      },
      "text/plain": [
       "HBox(children=(VBox(children=(RadioButtons(description='CSA Morphology:', index=1, layout=Layout(width='300px'…"
      ]
     },
     "metadata": {},
     "output_type": "display_data"
    }
   ],
   "source": [
    "ws4,ui4 = util.wi4()\n",
    "out4 = wi.interactive_output(muscle_emg.view_morpho, ws4)\n",
    "display(wi.HBox([ui4, out4]))"
   ]
  },
  {
   "cell_type": "markdown",
   "metadata": {},
   "source": [
    "## Motor unit distribution within muscle cross-sectional area\n",
    "Many human muscles present some level of motor unit regionalization within muscle cross-sectional area ([Johnson et al., 1973](https://doi.org/10.1016/0022-510X(73)90023-3 \"Data on the distribution of fibre types in thirty-six human muscles\")). To simulate it, we define two different distributions, one for the motor units that innervate type I muscle fibres and for type II muscle fibres. Each motor unit position is defined by polar coordanates, i.d., the distance from the origin is called radius and the angle formed with the vertical is called polar angle. All motor units will have their polar angle defined by a stochastic process with uniform distribution  with limits depending on the choosen morphology. The radius coordinate is also defined by an stochastic process, but with a gaussian distribution.Here we have control over this radius coordinate distribution with the variable ___Type I $\\mu$___, which defines the distribution center for Type I motor units and is normalized by the muscle external radius. ___Type II $\\mu$___ is the same of  ___Type I $\\mu$___, but defining the distribution center for Type II (a and b) motor units. On the other hand, ___Type I $\\sigma$___ defines the standard deviation of the gaussian distribution of the radius for Type I motor units, also normalized by muscle external radius. ___Type II $\\sigma$___ is the same of ___Type I $\\sigma$___, but for the Type II (a and b) motor units.\n",
    "\n",
    "### Muscle fiber ratio\n",
    "The motor unit territory is highly correlated with the number of muscle fibres innervated by a single motor neuron, which varies across the motor unit pool ([Enoka and Fuglevand, 2001](https://doi.org/10.1002/1097-4598(200101)24:1<4::AID-MUS13>3.0.CO;2-F \"Motor unit physiology: Some unresolved issues\")). Usually, the muscle comprises many motor units with relatively few muscle fibres and few motor units with large quantity of muscle fibres.  This motor unit innervation across the pool can be modelled by the form:\n",
    "$$y_i = y_1.exp \\left (ln(R)\\frac{i}{n} \\right )$$\n",
    "where:\n",
    "- $y_i$ is the innervation number of the motor unit $i$;\n",
    "- $y_1$ is the innervation number of the smallest motor unit;\n",
    "- $n$ is the total number of motor units;\n",
    "- $R$ is the ___innervation number ratio___ between the largest ($y_n$) and smallest ($y_1$) motor unit.\n",
    "\n",
    "\n"
   ]
  },
  {
   "cell_type": "code",
   "execution_count": 6,
   "metadata": {
    "code_folding": [
     3
    ]
   },
   "outputs": [
    {
     "data": {
      "application/vnd.jupyter.widget-view+json": {
       "model_id": "fa9316578f4a47d8a41c7c71b1db04a6",
       "version_major": 2,
       "version_minor": 0
      },
      "text/plain": [
       "VBox(children=(HBox(children=(VBox(children=(FloatSlider(value=0.7, continuous_update=False, description='Type…"
      ]
     },
     "metadata": {},
     "output_type": "display_data"
    }
   ],
   "source": [
    "ui5,ws5 = util.wi5()\n",
    "out5 = wi.interactive_output(muscle_emg.view_distribution, ws5)\n",
    "display(wi.VBox([ui5, out5]))"
   ]
  },
  {
   "cell_type": "markdown",
   "metadata": {},
   "source": [
    "## Motor unit action potentials\n",
    "Motor unit action potentials (MUAP) observed from bipolar electrodes at skin surface can be represented by ___1rst or 2nd order___ Hermite-Rodriguez (HR) functions ([Lo Conte et al., 1994](http://doi.org/10.1109/10.335863 \"Hermite Expansions of Compact Support Waveforms: Applications to Myoelectric Signals\")). These functions fit well the MUAP shape and has been used in previous studies. The ___1rst order___ HR function models biphasic MUAPs while the ___2nd order___ function models triphasic MUAPs. Each MU has an equal probability to have it MUAP shape modelled as 1rst or 2nd order HR function. The following cell radio button ___Hermite Rodrigues function___ has the only purpose to control which function is displayed in the figure, i.e., it do not change the model configuration.\n",
    "The HR functions are defined by the following equations:\n",
    "$$\\begin{align}\n",
    "HR_1(t) &= \\frac{A_M.(t-t_{AP})}{\\lambda_M} e^{  - \\left (\\frac{t-t_{AP}}{\\lambda_M} \\right )^2}u(t-t_{AP}) \\\\\n",
    "HR_2(t) &= A_M \\left [1 - 2 \\left ( \\frac{t-t_{AP}}{\\lambda_M} \\right )^2 \\right ] e^{- \\left (\\frac{t-t_{AP}}{\\lambda_M} \\right )^2} u(t-t_{AP})\n",
    "\\end{align}$$\n",
    "where:\n",
    "- $HR_i$ is the $i$-th order Hermite-Rodriguez Function;\n",
    "- $A_M$ is the amplitude factor;\n",
    "- $\\lambda_M$ is the duration factor;\n",
    "- $t$ is simulation time;\n",
    "- $t_{AP}$ is the motor unit discharge time;\n",
    "- $u$ is the Heaviside step function;\n",
    "\n",
    "For each motor unit is atributed a distinct amplitude and duration factor. To define each MUAP amplitude factor, an exponential interpolation between the ___first MUAP amplitude [mV]___ and ___last MUAP amplitude [mV]___ is used. The same method is adopted to define the duration factors of each MUAP."
   ]
  },
  {
   "cell_type": "code",
   "execution_count": 7,
   "metadata": {},
   "outputs": [
    {
     "data": {
      "application/vnd.jupyter.widget-view+json": {
       "model_id": "bce3f0199b404363af3baa77f4e377f7",
       "version_major": 2,
       "version_minor": 0
      },
      "text/plain": [
       "VBox(children=(RadioButtons(description='Hermite Rodrigues function:', options=('1rst order', '2nd order'), st…"
      ]
     },
     "metadata": {},
     "output_type": "display_data"
    },
    {
     "data": {
      "application/vnd.jupyter.widget-view+json": {
       "model_id": "2524c6fbb1084cfc96053bdd0be1a59a",
       "version_major": 2,
       "version_minor": 0
      },
      "text/plain": [
       "Output()"
      ]
     },
     "metadata": {},
     "output_type": "display_data"
    }
   ],
   "source": [
    "ui6,ws6 = util.wi6()\n",
    "out6 = wi.interactive_output(muscle_emg.view_muap, ws6)\n",
    "display(ui6, out6)"
   ]
  },
  {
   "cell_type": "markdown",
   "metadata": {},
   "source": [
    "## Volume conductor (spatial filtering)\n",
    "The volume conductor(characterized by the muscle, fat and skin tissue) filtering effect is modelled as isotropic and proportional to distance by the following equations ([Cisi and Kohn, 2008](http://doi.org/10.1007/s10827-008-0092-8 \"Simulation system of spinal cord motor nuclei and associated nerves and muscles, in a Web-based architecture\")): \n",
    "$$\\begin{align}\n",
    "V &= V_0. e^{ \\left ( \\frac{-d}{\\tau_{at}} \\right )} \\\\\n",
    "T &= T_0.(1+C.d)\n",
    "\\end{align} $$\n",
    "where:\n",
    "- $V$ is the Motor unit action potential (MUAP) amplitude at skin surface;\n",
    "- $V_0$ is the MUAP amplitude at the center of the motor unit territory;\n",
    "- $d$ is the distance between the center of the motor unit territory and the center of bipolar electrode;\n",
    "- $\\tau_{at}$ is the ___amplitude attenuation factor [$mm^{-1}$]___;\n",
    "- $T$ is the MUAP duration at the electrode;\n",
    "- $T_0$ is the MUAP duration at the center of the motor unit territory;\n",
    "- $C$ is the ___widening factor [$mm^{-1}$]___."
   ]
  },
  {
   "cell_type": "code",
   "execution_count": 8,
   "metadata": {},
   "outputs": [
    {
     "data": {
      "application/vnd.jupyter.widget-view+json": {
       "model_id": "50d04f2b25934a56bcaf6b1d58207af6",
       "version_major": 2,
       "version_minor": 0
      },
      "text/plain": [
       "HBox(children=(FloatSlider(value=0.005, continuous_update=False, description='Amplitude Attenuation Factor [mm…"
      ]
     },
     "metadata": {},
     "output_type": "display_data"
    },
    {
     "data": {
      "application/vnd.jupyter.widget-view+json": {
       "model_id": "0ae576bbf73e4633b485929e0b2a1c7f",
       "version_major": 2,
       "version_minor": 0
      },
      "text/plain": [
       "Output()"
      ]
     },
     "metadata": {},
     "output_type": "display_data"
    }
   ],
   "source": [
    "ui7,ws7 = util.wi7()        \n",
    "out7= wi.interactive_output(muscle_emg.view_attenuation,ws7)\n",
    "display(ui7,out7)"
   ]
  },
  {
   "cell_type": "markdown",
   "metadata": {},
   "source": [
    "## Surface EMG Generation\n",
    "The surface electromiography (EMG) is modelled as the summed activity of all filtered MUAPs and each MUAP train has uniform and equal probabilities to be represented by first or second order Hermite-Rodriguez Functions. Some noise is always present in experimentally measures and can be added as  user wish by adjusting the ___Noise level (Standard deviation)[mV]___ variable. Also,  we applied a 4th order Butterworth bandpass filter to clear the signal from undesired frequencies, which cut frequencies can be adjust by ___Bandpass filter low cut [Hz]___ and ___Bandpass filter high cut [Hz]___."
   ]
  },
  {
   "cell_type": "code",
   "execution_count": 9,
   "metadata": {
    "code_folding": []
   },
   "outputs": [
    {
     "data": {
      "application/vnd.jupyter.widget-view+json": {
       "model_id": "d104bd2d3ea146598de0dca31d3a2c5c",
       "version_major": 2,
       "version_minor": 0
      },
      "text/plain": [
       "interactive(children=(Checkbox(value=True, description='Add Noise', layout=Layout(width='400px'), style=Descri…"
      ]
     },
     "metadata": {},
     "output_type": "display_data"
    }
   ],
   "source": [
    "wi8 = util.wi8()\n",
    "_ = wi.interact_manual(muscle_emg.view_semg, add_noise = wi8[0], noise_level = wi8[1], \n",
    "                       add_filter = wi8[4], bplc = wi8[2], bphc = wi8[3])"
   ]
  },
  {
   "cell_type": "markdown",
   "metadata": {},
   "source": [
    "## Surface EMG analysis\n",
    "To analyse the EMG signal in time domain, which can be non-stationary,  we used in this work a simple moving RMS technique. It is a type of finite impulse response filter and is used to smooth the short-term fluctuations and highlight longer-term trend. For other time domain methods: [Challis and Kitney, 1990](https://doi.org/10.1007/BF02442601 \"Biomedical signal processing (in four parts) - Part 1 Time-domain methods\"). Furthermore, to analyse the EMG signal in frequency domain, we used two methods: Welch's periodogram ([Challis and Kitney, 1991](https://doi.org/10.1007/BF02446704 \"Biomedical signal processing (in four parts) - Part Part 3 The power spectrum and coherence function\")) and Spectrogram. Welch's method is an approach for spectral density estimation, which has the property to reduces noise in exchange of frequency resolution. This method is applied on the entire analysis interval and adequate for stationary signals. The Spectrogram method, which uses Short-time Fourier transform to be generated, is used to determine sinusoidal frequency of the EMG signal as it changes over time and is suitable for non-stationary signals.  \n",
    "Still in the following cell, one can visualize each motor unit action potential train contribution, after volume conductor filtering, for the EMG signal by choosen the ___motor unit index #___."
   ]
  },
  {
   "cell_type": "code",
   "execution_count": 10,
   "metadata": {
    "scrolled": false
   },
   "outputs": [
    {
     "data": {
      "application/vnd.jupyter.widget-view+json": {
       "model_id": "909fcac6cdeb4b12bb5f92f788a9826b",
       "version_major": 2,
       "version_minor": 0
      },
      "text/plain": [
       "VBox(children=(FloatRangeSlider(value=(0.0, 4999.950000000001), continuous_update=False, description='Analysis…"
      ]
     },
     "metadata": {},
     "output_type": "display_data"
    },
    {
     "data": {
      "application/vnd.jupyter.widget-view+json": {
       "model_id": "135cbe5019314b09b1c8a8669ce3e6db",
       "version_major": 2,
       "version_minor": 0
      },
      "text/plain": [
       "Output()"
      ]
     },
     "metadata": {},
     "output_type": "display_data"
    }
   ],
   "source": [
    "ui9,ws9 = util.wi9(muscle_emg)\n",
    "out9 = wi.interactive_output(muscle_emg.analysis, ws9)\n",
    "display(ui9, out9)"
   ]
  },
  {
   "cell_type": "markdown",
   "metadata": {},
   "source": [
    "# Muscle force generation model\n",
    "\n",
    "## Motor Unit Twitch\n",
    "\n",
    "Motor unit twitch is the mechanic response of muscle fibres to action potentials arriving from motor neurons. Under isometric conditions, it can be modelled as the impulsive response of a critically damped second-order system  ([Milner-brown et al., 1973](https://doi.org/10.1113/jphysiol.1973.sp010087 \"The contractile properties of human motor units during voluntary isometric contractions\")). The general expression for a second-order critically damped impulse response is:\n",
    "\n",
    "$$ F(t) = P \\frac{t}{T}exp(-t/T)u(t) \\; , \\quad t \\in \\Re$$\n",
    "\n",
    "where:\n",
    "- $F(t)$ is the force generated by one twitch;\n",
    "- $P$ is the maximum force of the twitch;\n",
    "- $T$ is the time-to-peak for force reach a maximum;\n",
    "- $u(t)$ is the Heaviside step function.\n",
    "\n",
    "The peak force generated by each MU twitch of the pool is directly related to its size and recruitment threshold, being modelled by the following equation ([Fuglevand et al., 1993](https://doi.org/10.1152/jn.1993.70.6.2470 \"Models of recruitment and rate coding organization in motor-unit pools\")).:\n",
    "\n",
    "$$ P_i = P_0.e^{\\frac{ln(RP).i}{n}}$$\n",
    "\n",
    "where:\n",
    "- $P_i$ is the peak twitch tension of the MU $i$;\n",
    "- $P_0$ is the peak twitch force of the first MU;\n",
    "- $RP$ is the the range of twitch forces;\n",
    "- $n$ is the number of MUs in the pool.\n",
    "\n",
    "The twitch time-to-peak organization of the MU pool can be modelled by an exponential curve, as proposed by the original paper ([Fuglevand et al., 1993](https://doi.org/10.1152/jn.1993.70.6.2470 \"Models of recruitment and rate coding organization in motor-unit pools\")):\n",
    "\n",
    "$$ T_i=T_L \\left ( \\frac{1}{P_i} \\right )^{1/log_{RT}RP} $$\n",
    "\n",
    "where:\n",
    "- $T_i$ is the twitch time for tension reach a maximum for motor unit $i$;\n",
    "- $T_L$ is the largest $T_i$;\n",
    "- $RT$ is the desired range of $T_i$ observed in the MU pool.\n",
    "\n",
    "Assuming that the twitch time-to-peak is not related to MU size, one can set the radio button `Twitch duration` to `Random uniform`. This will result in a randomly, uniformly distributed, time-to-peak for each MU between the interval defined by $T_L/RT$ and $T_L$  (for more information about this topic, check [Bigland-Ritche et al., 1998](http:doi.org/10.1177/107385849800400413 \"Contractile properties of human motor units: Is man a cat?\"))."
   ]
  },
  {
   "cell_type": "code",
   "execution_count": 11,
   "metadata": {},
   "outputs": [
    {
     "data": {
      "application/vnd.jupyter.widget-view+json": {
       "model_id": "817a6fc862894af58c1a1cc033bd31ee",
       "version_major": 2,
       "version_minor": 0
      },
      "text/plain": [
       "VBox(children=(IntSlider(value=3, continuous_update=False, description='$P_0$ [mN]:', layout=Layout(width='300…"
      ]
     },
     "metadata": {},
     "output_type": "display_data"
    },
    {
     "data": {
      "application/vnd.jupyter.widget-view+json": {
       "model_id": "4e520b2617a14798921348363b2d3a47",
       "version_major": 2,
       "version_minor": 0
      },
      "text/plain": [
       "Output()"
      ]
     },
     "metadata": {},
     "output_type": "display_data"
    }
   ],
   "source": [
    "ui10,ws10 = util.wi10()\n",
    "out10 = wi.interactive_output(muscle_force.view_mu_twitch, ws10)\n",
    "display(ui10,out10)"
   ]
  },
  {
   "cell_type": "markdown",
   "metadata": {},
   "source": [
    "## Motor unit tetanic force\n",
    "\n",
    "The MU behavior has a number of nonlinear properties, including a change in the gain of the stimulus rate-MU isometric force system ([Milner-brown et al., 1973](https://doi.org/10.1113/jphysiol.1973.sp010087 \"The contractile properties of human motor units during voluntary isometric contractions\")). This relationship between stimulus rate and MU isometric force has a sigmoidal shape, saturating at a given stimulus rate. Usually, the stimulus rate for MU force saturation is bigger then 50 imp/s for muscles that control digits of the hand ([Fuglevand et al, 1999](https://doi.org/10.1152/jn.1999.81.4.1718 \"Force-Frequency and Fatigue Properties of Motor Units in Muscles That Control Digits of the Human Hand\")).\n",
    "\n",
    "\n",
    "To simulate the saturation mechanisms, i.e., the non-linear relationship between stimulus rate and MU force, we used the following function ([Watanabe et al., 2013](https://doi.org/10.1152/jn.00073.2013 \"Influences of premotoneuronal command statistics on the scaling of motor output variability during isometric plantar flexion\")):\n",
    "\n",
    "$$ F_{sat} (t)=\\frac{1-exp(-c.F(t))}{1+exp(-c.F(t))} $$\n",
    "\n",
    "To find which value of $c$ makes $F_{sat}(t)$ saturates at a desired stimulus rate, we first simulate the MU being stimulated at this rate and with unitary twitch amplitude ($P=1$). Then, we use the secant method (root-finding algorithm with secant lines with better approximations in each step) to find which $c$ value zeroes the function:\n",
    "\n",
    "$$max(F_{sat}(t)) - 0.999 = 0$$ \n",
    "\n",
    "The shape of the stimulus rate-force relationship depends on the contractile properties of the MU. MU twitches with larger time-to-peak intervals tend to fuse faster when compared with shorter intervals. It is also important to note that the stimulus rate for MU force saturation  is much higher than the rate associated with maximum voluntary contractions (approximately a mean rate of 35 imp/s for the FDI muscle, [Enoka and Fuglevand, 2001](https://doi.org/https://doi.org/10.1002/1097-4598(200101)24:1<4::AID-MUS13>3.0.CO;2-F \"Motor unit physiology: Some unresolved issues:\")). \n",
    "\n"
   ]
  },
  {
   "cell_type": "code",
   "execution_count": 12,
   "metadata": {},
   "outputs": [
    {
     "data": {
      "application/vnd.jupyter.widget-view+json": {
       "model_id": "6d9f6d7661474cf2b43b55c2d06c9e18",
       "version_major": 2,
       "version_minor": 0
      },
      "text/plain": [
       "VBox(children=(IntSlider(value=50, continuous_update=False, description='First motor unit saturation frequency…"
      ]
     },
     "metadata": {},
     "output_type": "display_data"
    },
    {
     "data": {
      "application/vnd.jupyter.widget-view+json": {
       "model_id": "74a989b897214ed2b1d25bebdabd4f10",
       "version_major": 2,
       "version_minor": 0
      },
      "text/plain": [
       "Output()"
      ]
     },
     "metadata": {},
     "output_type": "display_data"
    }
   ],
   "source": [
    "ui11,ws11 = util.wi11(muscle_force)\n",
    "out11 = wi.interactive_output(muscle_force.view_saturation, ws11)\n",
    "display(ui11, out11)"
   ]
  },
  {
   "cell_type": "markdown",
   "metadata": {},
   "source": [
    "## Force Generation\n",
    "\n",
    "At this point, all of the force parameters are defined and simulation is ready to start (`run interact` button). To speed up simulation process, we used the discrete-time version of the spike train and twitch models. The spike train was viewed as an uniform pulse train of Kronecker deltas:\n",
    "\n",
    "$$ s(n) = \\sum_j \\delta(n-n_j) \\; , \\quad n \\in Z$$\n",
    "\n",
    "where:\n",
    "- $n_j$ is the $j$ MU spike time;\n",
    "- $\\delta(n)$ is the Kronecker delta function.\n",
    "\n",
    "The twitch model was seen as a linear time-invariant system and it's sampled version is obtained with the impulse invariance technique. Then, the z-transform  is used to obtain the difference equation that describes the linear part of the force developed by one MU ([Cisi and Kohn, 2008](https://doi.org/10.1007/s10827-008-0092-8 \"Simulation system of spinal cord motor nuclei and associated nerves and muscles, in a Web-based architecture.\")):\n",
    "\n",
    "$$     \\begin{split}\n",
    "F_{MU_i}(n) =  2 \\, exp \\left( \\frac{- \\Delta t}{T_{i}} \\right ) \\, F_{MU_i} (n-1) \\, -exp \\left ( \\frac{-2 \\Delta t}{T_i} \\right )F_{MU_i}(n-2)   \\\\\n",
    " + \\frac{\\displaystyle P_i \\, \\Delta t^2}{\\displaystyle T_i} exp \\left (  1- \\frac{\\Delta t}{T_i} \\right ) s(n-1)\n",
    "    \\end{split} $$\n",
    "\n",
    "where:\n",
    "- $F_{MU_i}(n)$ is the force of MU $i$ at the instant $n$;\n",
    "- $\\Delta t$ is the integration time step;\n",
    "\n",
    "The last step in MU force generation is to add the saturation mechanism, described by the sigmoidal function $F_{sat}(t)$. Finally, muscle force is computed as the sum of all MU forces."
   ]
  },
  {
   "cell_type": "code",
   "execution_count": 13,
   "metadata": {},
   "outputs": [
    {
     "data": {
      "application/vnd.jupyter.widget-view+json": {
       "model_id": "0400d3ef31e746fa89f7a92493dd6b2b",
       "version_major": 2,
       "version_minor": 0
      },
      "text/plain": [
       "interactive(children=(Button(description='Run Interact', style=ButtonStyle()), Output()), _dom_classes=('widge…"
      ]
     },
     "metadata": {},
     "output_type": "display_data"
    }
   ],
   "source": [
    "wif = wi.interact_manual(muscle_force.gen_force)"
   ]
  },
  {
   "cell_type": "markdown",
   "metadata": {},
   "source": [
    "## Force Analysis\n",
    "\n",
    "Similar to the EMG analysis, the following cell uses Welch's periodogram and Spectrogram to analyse the muscle force signal in spectral domain. In time domain, standard deviation is used to analyse muscle force. It is also possible to observe single MU force contribution by ticking `Add motor unit contribution` in the `Motor unit Force` tab."
   ]
  },
  {
   "cell_type": "code",
   "execution_count": 14,
   "metadata": {},
   "outputs": [
    {
     "data": {
      "application/vnd.jupyter.widget-view+json": {
       "model_id": "50b0fd07389e4b728f16728deaaac907",
       "version_major": 2,
       "version_minor": 0
      },
      "text/plain": [
       "VBox(children=(FloatRangeSlider(value=(0.0, 5999.950000000001), description='Analysis interval [ms]', layout=L…"
      ]
     },
     "metadata": {},
     "output_type": "display_data"
    },
    {
     "data": {
      "application/vnd.jupyter.widget-view+json": {
       "model_id": "40ab45e21bf543acbf8cba78e4311898",
       "version_major": 2,
       "version_minor": 0
      },
      "text/plain": [
       "Output()"
      ]
     },
     "metadata": {},
     "output_type": "display_data"
    }
   ],
   "source": [
    "ui12, ws12 = util.wi12(muscle_force)\n",
    "out12 = wi.interactive_output(muscle_force.analysis, ws12)\n",
    "display(ui12, out12)"
   ]
  },
  {
   "cell_type": "markdown",
   "metadata": {},
   "source": [
    "# Save Simulation Results\n",
    "The configuration used to simulate this neuromuscular system and it's results can be saved at the following folder: `\\simulation_results\\folder_name`.The  _folder name_ can be choose in the following cell. To save it, just click on ___Run interact___ button.\n"
   ]
  },
  {
   "cell_type": "code",
   "execution_count": 15,
   "metadata": {},
   "outputs": [
    {
     "data": {
      "application/vnd.jupyter.widget-view+json": {
       "model_id": "186af7f5e7de4bc1ae7f353ebc208ba0",
       "version_major": 2,
       "version_minor": 0
      },
      "text/plain": [
       "interactive(children=(Checkbox(value=True, description='Save Simulation Config.'), Checkbox(value=True, descri…"
      ]
     },
     "metadata": {},
     "output_type": "display_data"
    }
   ],
   "source": [
    "ws13 = util.wi13()\n",
    "_ = wi.interact_manual(sim.save_results, save_conf = ws13[0], save_emg = ws13[2], \n",
    "                          save_force = ws13[3], folder_name = ws13[4], save_spikes = ws13[1])"
   ]
  }
 ],
 "metadata": {
  "kernelspec": {
   "display_name": "Python 3",
   "language": "python",
   "name": "python3"
  },
  "language_info": {
   "codemirror_mode": {
    "name": "ipython",
    "version": 3
   },
   "file_extension": ".py",
   "mimetype": "text/x-python",
   "name": "python",
   "nbconvert_exporter": "python",
   "pygments_lexer": "ipython3",
   "version": "3.8.3"
  },
  "toc": {
   "base_numbering": 1,
   "nav_menu": {},
   "number_sections": true,
   "sideBar": true,
   "skip_h1_title": false,
   "title_cell": "Table of Contents",
   "title_sidebar": "Contents",
   "toc_cell": false,
   "toc_position": {
    "height": "762px",
    "left": "766.4px",
    "top": "141.133px",
    "width": "323.767px"
   },
   "toc_section_display": true,
   "toc_window_display": true
  }
 },
 "nbformat": 4,
 "nbformat_minor": 2
}
