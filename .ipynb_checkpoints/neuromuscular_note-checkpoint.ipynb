{
 "cells": [
  {
   "cell_type": "markdown",
   "metadata": {},
   "source": [
    "![NERLab](http://www.fee.unicamp.br/sites/default/files/docentes/leoelias/imagens/logo_v1%28WEB%29.png)\n",
    "--"
   ]
  },
  {
   "cell_type": "markdown",
   "metadata": {},
   "source": [
    "# NeMu: A neuromuscular model notebook\n",
    "\n",
    "[Ricardo Gonçalves Molinari](mailto:molinari@gmail.com) and [Leonardo Abdala Elias](mailto:leoelias@unicamp.br)\n",
    "\n",
    "\n",
    "- Version 0.1 | Last update: Jan. 6, 2019\n",
    "\n",
    "- Version 0.2 | Last update: July 22, 2019\n",
    "\n",
    "- Version 0.3 | Last update: October 3, 2019\n",
    "\n",
    "# Import Libraries and Create Model Objects"
   ]
  },
  {
   "cell_type": "code",
   "execution_count": 1,
   "metadata": {},
   "outputs": [],
   "source": [
    "from nerlab import fug, emg, force, util\n",
    "import ipywidgets as wi\n",
    "\n",
    "util.config_plots(style = 'seaborn-whitegrid', font_size =20)\n",
    "mnpool = fug.Phemo()\n",
    "muscle_emg = emg.Emg_mod(mnpool)\n",
    "muscle_force = force.Muscle_force(mnpool)\n",
    "sim = util.sim_results(mnpool, muscle_emg, muscle_force)"
   ]
  },
  {
   "cell_type": "markdown",
   "metadata": {},
   "source": [
    "# The Motor Pool Model\n",
    "\n",
    "## Recruitment pattern of motor units\n",
    "\n",
    "This section of the model generates the static input-output relationship of the motor pool. Here, we adopted the phenomenological model by [Fuglevand et al. (1993)](https://doi.org/10.1152/jn.1993.70.6.2470 \"Models of recruitment and rate coding organization in motor-unit pools\"), where the common drive to the motor neuron pool is mapped to the motor unit (MU) firing rate. A key aspect in this mapping is the recruitment pattern of the MUs.\n",
    "\n",
    "As well known, each MU encompasses a single motor neuron and its innervated muscle fibers. In this model, three types of MUs were represented:\n",
    "- Type I (or S) MUs: low-threshold MUs with slowly contracting muscle units;\n",
    "- Type IIa (or FR) MUs: these MUs have a higher recruitment threshold (as compared to type I MUs) and its muscle units are fast contracting but fatigue resistant;\n",
    "- Type IIb (or FF) MUs: these MUs have the highest recruitment threshold with fast contracting and fatigable muscle units.\n",
    "\n",
    "### Recruitment range\n",
    "***Recruitment range*** is used to define the recruitment threshold excitation (RTE) of each MU.\n",
    "\n",
    "$$RTE[i]  =exp \\left ( \\frac{ln(RR)i}{n} \\right )$$\n",
    "\n",
    "where:\n",
    "- $RTE[i]$ is the recruitment threshold excitation of the motor unit $i$;\n",
    "- $RR$ is the recruitment range;\n",
    "- $i$ is the MU index;\n",
    "- $n$ is the total number of MUs.  \n",
    "\n",
    "\n",
    "### Relationship between MU firing rate and the excitatory drive\n",
    "The following equation is used to define the ***firing rate*** of each MU as a function of the ***excitatory (common) drive***.\n",
    "\n",
    "$$\\begin{align}\n",
    "    FR_i[t] & = g_e(E[t]-RTE_i) + MFR  \\, , E[t] \\ge RTE_i \\\\\n",
    "    PFR_i & = PFR_1 - PFRD \\frac{RTE_i}{RTE_n} \\\\\n",
    "    \\end{align}$$\n",
    "    \n",
    "where:\n",
    "- $FR_i[t]$ is the mean firing rate of MU $i$ at time $t$; \n",
    "- $g_e$ is the gain of the relationship between the excitatory drive and the MU firing rate;\n",
    "- $E[t]$ is the excitatory drive (or common drive) as function of time;\n",
    "- $MFR$ is the minimum firing rate.\n",
    "- $PFR_i$ is the peak firing rate of MU $i$;\n",
    "- $PFRD$ is the peak firing rate difference between the first and the last MU of the pool;\n",
    "\n",
    "For more information about the physiology of MUs, please refer to the monograph by [Kernell (2006)](https://doi.org/10.1093/acprof:oso/9780198526551.001.0001 \"The Motoneurone and its Muscle Fibres\")."
   ]
  },
  {
   "cell_type": "code",
   "execution_count": 2,
   "metadata": {
    "code_folding": []
   },
   "outputs": [
    {
     "data": {
      "application/vnd.jupyter.widget-view+json": {
       "model_id": "43d3f647e0914664b8270bd78822978e",
       "version_major": 2,
       "version_minor": 0
      },
      "text/plain": [
       "HBox(children=(HBox(children=(VBox(children=(IntSlider(value=101, continuous_update=False, description='Number…"
      ]
     },
     "metadata": {},
     "output_type": "display_data"
    }
   ],
   "source": [
    "ui1,ws1 = util.wi1()\n",
    "out1 = wi.interactive_output(mnpool.view_organization, ws1)\n",
    "display(wi.HBox([ui1,out1]))"
   ]
  },
  {
   "cell_type": "markdown",
   "metadata": {},
   "source": [
    "## Definition of the excitatory (common) drive\n",
    "\n",
    "The common drive and the recruitment pattern of the MUs (defined above) are used to generate the MU spike trains. These spike trains will command the muscle units so as to produce muscle force and electromyogram (EMG).\n",
    "\n",
    "Different force intesities (percentage of the maximum force) may be explored with ***trapezoidal*** or ***sinusoidal*** waveform commands. To simulate a steady isometric contraction, you can choose the ***trapezoidal*** waveform, and then define **_Plateau on_** as zero and **Plateau off** as the final simulation time.\n",
    "\n",
    "MU recruitment and de-recruitment can be observed using a ***trapezoidal*** command, but in this scenario the value of the parameter **Onset** should be less than the **Plateau on**, and **Offset** should be less than **Plateau off**.\n",
    "\n",
    "Periodic contractions can be simulated by changing the command to the **sinusoidal** waveform, with the following parameters: peak **intensity** and **frequency**."
   ]
  },
  {
   "cell_type": "code",
   "execution_count": 4,
   "metadata": {
    "code_folding": []
   },
   "outputs": [
    {
     "data": {
      "application/vnd.jupyter.widget-view+json": {
       "model_id": "4314394402364b37a06c4e3d2535dfae",
       "version_major": 2,
       "version_minor": 0
      },
      "text/plain": [
       "HBox(children=(VBox(children=(IntSlider(value=20000, continuous_update=False, description='Sampling [Hz]:', la…"
      ]
     },
     "metadata": {},
     "output_type": "display_data"
    }
   ],
   "source": [
    "ws2,ui2 = util.wi2()\n",
    "out2 = wi.interactive_output(mnpool.view_excitatory,ws2)\n",
    "display(wi.HBox([ui2,out2]))"
   ]
  },
  {
   "cell_type": "markdown",
   "metadata": {},
   "source": [
    "## Motor unit spike trains\n",
    "\n",
    "The MU activity (spike trains) resembles a sthocastic point process with a gaussian distribution. The model by [Fuglevand et al. (1993)](https://doi.org/10.1152/jn.1993.70.6.2470 \"Models of recruitment and rate coding organization in motor-unit pools\") simulates the spike times as:\n",
    "\n",
    "$$ t_{i,j}= \\mu + \\sigma. Z + t_{i,j-1}$$\n",
    "\n",
    "where:\n",
    "- $t_{i,j}$ is the $j$ spike time of the MU $i$;\n",
    "- $\\mu = 1/FR_{ij}$ is the mean interspike interval;\n",
    "- $\\sigma$ is the standard deviation of each interspike interval;\n",
    "- $Z$ represents how the spike time deviates from the mean value (a random value between -3.9 and 3.9).  \n",
    "\n",
    "The standard deviation ($\\sigma$) is defined as function of the **coeficient of variation** ($CoV$) and the mean spike interval ($\\mu$), as $\\sigma = \\mu . CoV$.\n",
    "\n",
    "### Motor unit synchronization\n",
    "\n",
    "Convergent presynaptic commands to the spinal motor neurons promote common fluctuations on the membrane potentials of these cells. These common sources increases the probability of synchronous discharges of MUs (the so-called MU synchronization).\n",
    "\n",
    "To simulate this phenomenon, we adopted the model by [Yao et al. (2000)](https://doi.org/10.1152/jn.2000.83.1.441 \"Motor-Unit Synchronization Increases EMG Amplitude and Decreases Force Steadiness of Simulated Contractions\"). However, an extra step was added to the algorithm in order to deal with time varying excitations (trapezoidal and sinusoidal).\n",
    "\n",
    "The **Synchronization Level [%]** operates as follows: \n",
    "1. A percentage of MUs will be randomly selected and they will be the references for the adjustments of MU spike times;\n",
    "2. Also, as the percentage of selected MU spike times that will serve as reference for adjustment;\n",
    "3. Also, as the percentage of recruited motor units of the pool that will have their discharge times adjusted with the reference discharge time.\n",
    "4. And finally, some deviation (___Synchronism Standard Deviation [ms]___) across the synchronized discharge times where added to better represent this phenomenon."
   ]
  },
  {
   "cell_type": "code",
   "execution_count": 5,
   "metadata": {
    "code_folding": []
   },
   "outputs": [
    {
     "data": {
      "application/vnd.jupyter.widget-view+json": {
       "model_id": "3e1196898293480ebe9193fb3754b498",
       "version_major": 2,
       "version_minor": 0
      },
      "text/plain": [
       "interactive(children=(FloatSlider(value=1.5, description='CoV variation factor (use zero for cte):', layout=La…"
      ]
     },
     "metadata": {},
     "output_type": "display_data"
    }
   ],
   "source": [
    "wi3 = util.wi3()\n",
    "_ = wi.interact_manual(mnpool.view_neural_command, cv_factor = wi3[2], CV_init = wi3[0],\n",
    "                       CV_final = wi3[1], synch_level = wi3[3], sigma = wi3[4])"
   ]
  },
  {
   "cell_type": "markdown",
   "metadata": {},
   "source": [
    "# Surface Electromyogram (sEMG)\n",
    "\n",
    "The surface electromyogram (sEMG) emerges from the electric activity of the muscle fibres during a given contraction. Currents flowing across the sarcolemma (as a result of the muscle fiber action potential) produce an electric potential that can be recorded by extracellular electrodes. The recorded extracellular potentials are spatially filtered by the volume conductor, which includes the muscle, adipose, and skin tissues. It is worth noting that the MU territories are sparsely distributed in the muscle cross-section. Here, we represented the sEMG recorded by bipolar electrode (*red star* in the following graph) located on the skin.\n",
    "\n",
    "## Muscle cross-section morphology\n",
    "\n",
    "Four different morphologies for the muscle cross-section were included to represent the desired muscle. The following morphologies were included: circle, ring, pizza, and ellipse. Also, cross-section area (***CSA***), fat thickness (***fat layer [mm]***), and skin thickness (***skin layer [mm]***) are properties to be adjusted. For the ring, pizza, and ellipse morphologies you need to adjust two additional parameters:\n",
    "- ***Proportion*** defines, for the ***ring*** morphology, the ratio between internal and external muscle radii and, for the ***ellipse***,  the ratio between semi-minor and semi-major axes;\n",
    "- ***Theta [rad]*** defines the \"opening\" of the choosen geometry. In other words, the angle formed between the vertical line (which passes through the origin) and the line that defines the \"side\" boundary of the muscle CSA, which also passes through the origin."
   ]
  },
  {
   "cell_type": "code",
   "execution_count": 6,
   "metadata": {},
   "outputs": [
    {
     "data": {
      "application/vnd.jupyter.widget-view+json": {
       "model_id": "fc7fd61ce5bb428b9d305578faf316aa",
       "version_major": 2,
       "version_minor": 0
      },
      "text/plain": [
       "HBox(children=(VBox(children=(RadioButtons(description='CSA Morphology:', index=1, layout=Layout(width='300px'…"
      ]
     },
     "metadata": {},
     "output_type": "display_data"
    }
   ],
   "source": [
    "ws4,ui4 = util.wi4()\n",
    "out4 = wi.interactive_output(muscle_emg.view_morpho, ws4)\n",
    "display(wi.HBox([ui4, out4]))"
   ]
  },
  {
   "cell_type": "markdown",
   "metadata": {},
   "source": [
    "## Motor unit distribution within the muscle CSA\n",
    "\n",
    "Many human muscles present some level of motor unit regionalization within muscle cross-sectional area ([Johnson et al., 1973](https://doi.org/10.1016/0022-510X(73)90023-3 \"Data on the distribution of fibre types in thirty-six human muscles\")). To simulate it, we define two different distributions, one for the motor units that innervate type I muscle fibres and for type II muscle fibres. Each motor unit position is defined by polar coordanates, i.d., the distance from the origin is called radius and the angle formed with the vertical is called polar angle. All motor units will have their polar angle defined by a stochastic process with uniform distribution  with limits depending on the choosen morphology. The radius coordinate is also defined by an stochastic process, but with a gaussian distribution.Here we have control over this radius coordinate distribution with the variable ___Type I $\\mu$___, which defines the distribution center for Type I motor units and is normalized by the muscle external radius. ___Type II $\\mu$___ is the same of  ___Type I $\\mu$___, but defining the distribution center for Type II (a and b) motor units. On the other hand, ___Type I $\\sigma$___ defines the standard deviation of the gaussian distribution of the radius for Type I motor units, also normalized by muscle external radius. ___Type II $\\sigma$___ is the same of ___Type I $\\sigma$___, but for the Type II (a and b) motor units.\n",
    "\n",
    "### Muscle fiber ratio\n",
    "The motor unit territory is highly correlated with the number of muscle fibres innervated by a single motor neuron, which varies across the motor unit pool ([Enoka and Fuglevand, 2001](https://doi.org/10.1002/1097-4598(200101)24:1<4::AID-MUS13>3.0.CO;2-F \"Motor unit physiology: Some unresolved issues\")). Usually, the muscle comprises many motor units with relatively few muscle fibres and few motor units with large quantity of muscle fibres.  This motor unit innervation across the pool can be modelled by the form:\n",
    "$$y_i = y_1.exp \\left (ln(R)\\frac{i}{n} \\right )$$\n",
    "where:\n",
    "- $y_i$ is the innervation number of the motor unit $i$;\n",
    "- $y_1$ is the innervation number of the smallest motor unit;\n",
    "- $n$ is the total number of motor units;\n",
    "- $R$ is the ___innervation number ratio___ between the largest ($y_n$) and smallest ($y_1$) motor unit."
   ]
  },
  {
   "cell_type": "code",
   "execution_count": 6,
   "metadata": {
    "code_folding": [
     3
    ]
   },
   "outputs": [
    {
     "data": {
      "application/vnd.jupyter.widget-view+json": {
       "model_id": "a4ebbad85dea4c598db3075f75e4d9b6",
       "version_major": 2,
       "version_minor": 0
      },
      "text/plain": [
       "VBox(children=(HBox(children=(VBox(children=(FloatSlider(value=0.7, continuous_update=False, description='Type…"
      ]
     },
     "metadata": {},
     "output_type": "display_data"
    }
   ],
   "source": [
    "ui5,ws5 = util.wi5()\n",
    "out5 = wi.interactive_output(muscle_emg.view_distribution, ws5)\n",
    "display(wi.VBox([ui5, out5]))"
   ]
  },
  {
   "cell_type": "markdown",
   "metadata": {},
   "source": [
    "## Motor unit action potentials (MUAPs)\n",
    "\n",
    "Motor unit action potentials (MUAP) observed from bipolar electrodes at skin surface can be represented by ___1rst and 2nd order___ Hermite-Rodriguez functions ([Lo Conte et al., 1994](http://doi.org/10.1109/10.335863 \"Hermite Expansions of Compact Support Waveforms: Applications to Myoelectric Signals\")). These functions fit well the MUAP shape and has been used in previous studies. The ___1rst order___ Hermite-Rodriguez function models biphasic MUAPs while the ___2nd order___ function models triphasic MUAPs. \n",
    "These functions are defined by the following equations:\n",
    "$$\\begin{align}\n",
    "HR_1(t) &= \\frac{A_M.(t-t_{AP})}{\\lambda_M} e^{  - \\left (\\frac{t-t_{AP}}{\\lambda_M} \\right )^2}u(t-t_{AP}) \\\\\n",
    "HR_2(t) &= A_M \\left [1 - 2 \\left ( \\frac{t-t_{AP}}{\\lambda_M} \\right )^2 \\right ] e^{- \\left (\\frac{t-t_{AP}}{\\lambda_M} \\right )^2} u(t-t_{AP})\n",
    "\\end{align}$$\n",
    "where:\n",
    "- $HR_i$ is the $i$-th order Hermite-Rodriguez Function;\n",
    "- $A_M$ is the amplitude factor;\n",
    "- $\\lambda_M$ is the duration factor;\n",
    "- $t$ is simulation time;\n",
    "- $t_{AP}$ is the motor unit discharge time;\n",
    "- $u$ is the Heaviside step function;\n",
    "\n",
    "For each motor unit is atributed a distinct amplitude and duration factor. To define each MUAP amplitude factor, an exponential interpolation between the ___first MUAP amplitude [mV]___ and ___last MUAP amplitude [mV]___ is used. The same method is adopted to define the duration factors of each MUAP."
   ]
  },
  {
   "cell_type": "code",
   "execution_count": 7,
   "metadata": {},
   "outputs": [
    {
     "data": {
      "application/vnd.jupyter.widget-view+json": {
       "model_id": "e942be0c5f254cff865ab6d046762aae",
       "version_major": 2,
       "version_minor": 0
      },
      "text/plain": [
       "VBox(children=(RadioButtons(description='Hermite Rodrigues function:', options=('1rst order', '2nd order'), st…"
      ]
     },
     "metadata": {},
     "output_type": "display_data"
    },
    {
     "data": {
      "application/vnd.jupyter.widget-view+json": {
       "model_id": "481604dc745748e392072a1ca3f8157a",
       "version_major": 2,
       "version_minor": 0
      },
      "text/plain": [
       "Output()"
      ]
     },
     "metadata": {},
     "output_type": "display_data"
    }
   ],
   "source": [
    "ui6,ws6 = util.wi6()\n",
    "out6 = wi.interactive_output(muscle_emg.view_muap, ws6)\n",
    "display(ui6, out6)"
   ]
  },
  {
   "cell_type": "markdown",
   "metadata": {},
   "source": [
    "## Volume conductor (spatial filtering)\n",
    "The volume conductor(characterized by the muscle, fat and skin tissue) filtering effect is modelled as isotropic and proportional to distance by the following equations ([Cisi and Kohn, 2008](http://doi.org/10.1007/s10827-008-0092-8 \"Simulation system of spinal cord motor nuclei and associated nerves and muscles, in a Web-based architecture\")): \n",
    "$$\\begin{align}\n",
    "V &= V_0. e^{ \\left ( \\frac{-d}{\\tau_{at}} \\right )} \\\\\n",
    "T &= T_0.(1+C.d)\n",
    "\\end{align} $$\n",
    "where:\n",
    "- $V$ is the Motor unit action potential (MUAP) amplitude at skin surface;\n",
    "- $V_0$ is the MUAP amplitude at the center of the motor unit territory;\n",
    "- $d$ is the distance between the center of the motor unit territory and the center of bipolar electrode;\n",
    "- $\\tau_{at}$ is the ___amplitude attenuation factor [$mm^{-1}$]___;\n",
    "- $T$ is the MUAP duration at the electrode;\n",
    "- $T_0$ is the MUAP duration at the center of the motor unit territory;\n",
    "- $C$ is the ___widening factor [$mm^{-1}$]___."
   ]
  },
  {
   "cell_type": "code",
   "execution_count": 8,
   "metadata": {},
   "outputs": [
    {
     "data": {
      "application/vnd.jupyter.widget-view+json": {
       "model_id": "b5f1e3d8c2624fe0a120928ad719cbd6",
       "version_major": 2,
       "version_minor": 0
      },
      "text/plain": [
       "HBox(children=(FloatSlider(value=0.005, continuous_update=False, description='Amplitude Attenuation Factor [mm…"
      ]
     },
     "metadata": {},
     "output_type": "display_data"
    },
    {
     "data": {
      "application/vnd.jupyter.widget-view+json": {
       "model_id": "d5e43a9935ac4a65bffd8026166880fd",
       "version_major": 2,
       "version_minor": 0
      },
      "text/plain": [
       "Output()"
      ]
     },
     "metadata": {},
     "output_type": "display_data"
    }
   ],
   "source": [
    "ui7,ws7 = util.wi7()        \n",
    "out7= wi.interactive_output(muscle_emg.view_attenuation,ws7)\n",
    "display(ui7,out7)"
   ]
  },
  {
   "cell_type": "markdown",
   "metadata": {},
   "source": [
    "## Generation of sEMG\n",
    "\n",
    "The surface electromiography (EMG) is modelled as the summed activity of all filtered MUAPs and each MUAP train has uniform and equal probabilities to be represented by first or second order Hermite-Rodriguez Functions. Some noise is always present in experimentally measures and can be added as  user wish by adjusting the ___Noise level (Standard deviation)[mV]___ variable. Also,  we applied a 4th order Butterworth bandpass filter to clear the signal from undesired frequencies, which cut frequencies can be adjust by ___Bandpass filter low cut [Hz]___ and ___Bandpass filter high cut [Hz]___."
   ]
  },
  {
   "cell_type": "code",
   "execution_count": 9,
   "metadata": {
    "code_folding": []
   },
   "outputs": [
    {
     "data": {
      "application/vnd.jupyter.widget-view+json": {
       "model_id": "927f235ff4db4b5496491d9a075348c2",
       "version_major": 2,
       "version_minor": 0
      },
      "text/plain": [
       "interactive(children=(Checkbox(value=True, description='Add Noise', layout=Layout(width='400px'), style=Descri…"
      ]
     },
     "metadata": {},
     "output_type": "display_data"
    }
   ],
   "source": [
    "wi8 = util.wi8()\n",
    "_ = wi.interact_manual(muscle_emg.view_semg, add_noise = wi8[0], noise_level = wi8[1], \n",
    "                       add_filter = wi8[4], bplc = wi8[2], bphc = wi8[3])"
   ]
  },
  {
   "cell_type": "markdown",
   "metadata": {},
   "source": [
    "## Analysis of sEMG\n",
    "\n",
    "To analyse the EMG signal in time domain, which can be non-stationary,  we used in this work a simple moving average technique. It is a type of finite impulse response filter and is used to smooth the short-term fluctuations and highlight longer-term trend. For other time domain methods: [Challis and Kitney, 1990](https://doi.org/10.1007/BF02442601 \"Biomedical signal processing (in four parts) - Part 1 Time-domain methods\"). Furthermore, to analyse the EMG signal in frequency domain, we used two methods: Welch's periodogram ([Challis and Kitney, 1991](https://doi.org/10.1007/BF02446704 \"Biomedical signal processing (in four parts) - Part Part 3 The power spectrum and coherence function\")) and Spectrogram. Welch's method is an approach for spectral density estimation, which has the property to reduces noise in exchange of frequency resolution. This method is applied on the entire analysis interval and adequate for stationary signals. The Spectrogram method, which uses Short-time Fourier transform to be generated, is used to determine sinusoidal frequency of the EMG signal as it changes over time and is suitable for non-stationary signals.  \n",
    "Still in the following cell, one can visualize each motor unit action potential train contribution, after volume conductor filtering, for the EMG signal by choosen the ___motor unit index #___, been zero the first motor unit recruited."
   ]
  },
  {
   "cell_type": "code",
   "execution_count": 16,
   "metadata": {},
   "outputs": [
    {
     "data": {
      "application/vnd.jupyter.widget-view+json": {
       "model_id": "f8bd111611874b669e03b8a1d3f75770",
       "version_major": 2,
       "version_minor": 0
      },
      "text/plain": [
       "VBox(children=(FloatRangeSlider(value=(0.0, 5999.950000000001), continuous_update=False, description='Analysis…"
      ]
     },
     "metadata": {},
     "output_type": "display_data"
    },
    {
     "data": {
      "application/vnd.jupyter.widget-view+json": {
       "model_id": "d8256463391d4175a009412e63758541",
       "version_major": 2,
       "version_minor": 0
      },
      "text/plain": [
       "Output()"
      ]
     },
     "metadata": {},
     "output_type": "display_data"
    }
   ],
   "source": [
    "ui9,ws9 = util.wi9(muscle_emg)\n",
    "out9 = wi.interactive_output(muscle_emg.analyses, ws9)\n",
    "display(ui9, out9)"
   ]
  },
  {
   "cell_type": "markdown",
   "metadata": {},
   "source": [
    "# Muscle Force\n",
    "\n",
    "## Motor unit twitch\n",
    "Motor unit twitch is the mechanic response of muscle fibres to action potentials arriving from motor neurons. It is modelled as the impulsive response of a critically damped second-order system ([Fuglevand et al., 1993](https://doi.org/10.1152/jn.1993.70.6.2470 \"Models of recruitment and rate coding organization in motor-unit pools\")).\n",
    "The peak force generated by each motor unit twitch of the pool is modeled by the following equation:\n",
    "$$ P[i] = P_0.e^{\\frac{ln(RP).i}{n}}$$\n",
    "where:\n",
    "- $P[i]$ is the peak twitch force of motor unit $i$;\n",
    "- $P_0$ is the peak twitch force of the first motor unit, i.e., ___First MU Twitch Amplitude [mN]___;\n",
    "- $RP$ is the the range of twitch forces or ___Range of MU Twitches___;\n",
    "- $n$ is the number of motor units in the pool.\n",
    "\n",
    "The contraction time represents the time between the action potential arrival and the peak twitch force and this parameter varies across the pool by the following:\n",
    "$$ T[i]=T_L \\left ( \\frac{1}{P_i} \\right )^{1/log_{RT}RP} $$\n",
    "where:\n",
    "- $T[i]$ is the contraction time of motor unit $i$;\n",
    "- $T_L$ is the largest contraction time or ___Maximum Contraction Time [ms]___ (first motor unit recruited);\n",
    "- $RT$ is the ___Range of Contraction Times___.\n",
    "\n"
   ]
  },
  {
   "cell_type": "code",
   "execution_count": 11,
   "metadata": {},
   "outputs": [
    {
     "data": {
      "application/vnd.jupyter.widget-view+json": {
       "model_id": "fa6bc5df45334d7a9ddf531782fd7278",
       "version_major": 2,
       "version_minor": 0
      },
      "text/plain": [
       "HBox(children=(VBox(children=(IntSlider(value=3, continuous_update=False, description='First MU Twitch Amplitu…"
      ]
     },
     "metadata": {},
     "output_type": "display_data"
    },
    {
     "data": {
      "application/vnd.jupyter.widget-view+json": {
       "model_id": "251ac547ee144f9883e607f7a7533c72",
       "version_major": 2,
       "version_minor": 0
      },
      "text/plain": [
       "Output()"
      ]
     },
     "metadata": {},
     "output_type": "display_data"
    }
   ],
   "source": [
    "ui10,ws10 = util.wi10()\n",
    "out10 = wi.interactive_output(muscle_force.view_mu_twitch, ws10)\n",
    "display(ui10,out10)"
   ]
  },
  {
   "cell_type": "markdown",
   "metadata": {},
   "source": [
    "## Motor unit tetanic force"
   ]
  },
  {
   "cell_type": "code",
   "execution_count": 12,
   "metadata": {},
   "outputs": [
    {
     "data": {
      "application/vnd.jupyter.widget-view+json": {
       "model_id": "55c2c4f805e14ab08d72e8cab331a5d7",
       "version_major": 2,
       "version_minor": 0
      },
      "text/plain": [
       "VBox(children=(RadioButtons(description='MU force saturation interpolation:', layout=Layout(width='600px'), op…"
      ]
     },
     "metadata": {},
     "output_type": "display_data"
    },
    {
     "data": {
      "application/vnd.jupyter.widget-view+json": {
       "model_id": "5c00a184ff2b44a19b4a66afc7feac1c",
       "version_major": 2,
       "version_minor": 0
      },
      "text/plain": [
       "Output()"
      ]
     },
     "metadata": {},
     "output_type": "display_data"
    }
   ],
   "source": [
    "ui11,ws11 = util.wi11(muscle_force)\n",
    "out11 = wi.interactive_output(muscle_force.view_saturation, ws11)\n",
    "display(ui11, out11)"
   ]
  },
  {
   "cell_type": "markdown",
   "metadata": {},
   "source": [
    "## Force Generation\n",
    "The muscle force is modelled as the simple summation of all motor unit forces. Each motor unit force is generated by the convolution between the motor unit twitch and the motor unit spike train, as proposed by [Cisi and Kohn, 2008](http://doi.org/10.1007/s10827-008-0092-8 \"Simulation system of spinal cord motor nuclei and associated nerves and muscles, in a Web-based architecture\")."
   ]
  },
  {
   "cell_type": "code",
   "execution_count": 13,
   "metadata": {},
   "outputs": [
    {
     "data": {
      "application/vnd.jupyter.widget-view+json": {
       "model_id": "e2c60252ac254e2b94e8daa3f3ac0c50",
       "version_major": 2,
       "version_minor": 0
      },
      "text/plain": [
       "interactive(children=(Button(description='Run Interact', style=ButtonStyle()), Output()), _dom_classes=('widge…"
      ]
     },
     "metadata": {},
     "output_type": "display_data"
    }
   ],
   "source": [
    "wif = wi.interact_manual(muscle_force.gen_force)"
   ]
  },
  {
   "cell_type": "markdown",
   "metadata": {},
   "source": [
    "## Force Analysis"
   ]
  },
  {
   "cell_type": "code",
   "execution_count": 17,
   "metadata": {},
   "outputs": [
    {
     "data": {
      "application/vnd.jupyter.widget-view+json": {
       "model_id": "71b7e24e48704b79a7afc0071c9ce592",
       "version_major": 2,
       "version_minor": 0
      },
      "text/plain": [
       "VBox(children=(FloatRangeSlider(value=(0.0, 5999.950000000001), description='Analysis interval [ms]', layout=L…"
      ]
     },
     "metadata": {},
     "output_type": "display_data"
    },
    {
     "data": {
      "application/vnd.jupyter.widget-view+json": {
       "model_id": "a4c4230416764d039e6f9129ddbff1fa",
       "version_major": 2,
       "version_minor": 0
      },
      "text/plain": [
       "Output()"
      ]
     },
     "metadata": {},
     "output_type": "display_data"
    }
   ],
   "source": [
    "ui12, ws12 = util.wi12(muscle_force)\n",
    "out12 = wi.interactive_output(muscle_force.analyses, ws12)\n",
    "display(ui12, out12)"
   ]
  },
  {
   "cell_type": "markdown",
   "metadata": {},
   "source": [
    "# Saving Simulation Results\n",
    "\n",
    "The configuration used to simulate this neuromuscular system and its results can be saved in the following folder: `\\simulation_results\\folder_name`. The  *folder name* can be selected in the following cell. To save it, just click on ***Run interact*** button.\n"
   ]
  },
  {
   "cell_type": "code",
   "execution_count": 7,
   "metadata": {},
   "outputs": [
    {
     "data": {
      "application/vnd.jupyter.widget-view+json": {
       "model_id": "4a2025f0cb43472d8a590c3abf1c37f4",
       "version_major": 2,
       "version_minor": 0
      },
      "text/plain": [
       "interactive(children=(Checkbox(value=True, description='Save Simulation Config.'), Checkbox(value=True, descri…"
      ]
     },
     "metadata": {},
     "output_type": "display_data"
    }
   ],
   "source": [
    "ws13 = util.wi13()\n",
    "_ = wi.interact_manual(sim.save_results, save_conf = ws13[0], save_emg = ws13[2], \n",
    "                          save_force = ws13[3], folder_name = ws13[4], save_spikes = ws13[1])"
   ]
  },
  {
   "cell_type": "code",
   "execution_count": null,
   "metadata": {},
   "outputs": [],
   "source": []
  }
 ],
 "metadata": {
  "kernelspec": {
   "display_name": "Python 3",
   "language": "python",
   "name": "python3"
  },
  "language_info": {
   "codemirror_mode": {
    "name": "ipython",
    "version": 3
   },
   "file_extension": ".py",
   "mimetype": "text/x-python",
   "name": "python",
   "nbconvert_exporter": "python",
   "pygments_lexer": "ipython3",
   "version": "3.8.3"
  },
  "toc": {
   "base_numbering": 1,
   "nav_menu": {},
   "number_sections": true,
   "sideBar": true,
   "skip_h1_title": false,
   "title_cell": "Table of Contents",
   "title_sidebar": "Contents",
   "toc_cell": false,
   "toc_position": {
    "height": "762px",
    "left": "766.4px",
    "top": "141.133px",
    "width": "323.767px"
   },
   "toc_section_display": true,
   "toc_window_display": true
  }
 },
 "nbformat": 4,
 "nbformat_minor": 2
}
